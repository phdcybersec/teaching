{
  "cells": [
    {
      "cell_type": "markdown",
      "metadata": {
        "id": "dZzf3nBDkssN"
      },
      "source": [
        "# Federated Learning for Intrusion Detection 101\n",
        "\n",
        "<a href=\"https://colab.research.google.com/github/phdcybersec/teaching/blob/main/tutorials/fl_for_ids_101.ipynb\" target=\"_parent\"><img src=\"https://colab.research.google.com/assets/colab-badge.svg\" alt=\"Open In Colab\"/></a>\n",
        "\n",
        "Welcome to this introduction to using federated learning (FL) for intrusion detection!\n",
        "\n",
        "In this notebook, we'll learn how to build a collaborative intrusion detection system (IDS), using [Tensorflow](https://www.tensorflow.org) and the [Flower](https://flower.dev) framework. In part I., we train a ML model to classify intrusion in network flows. In part II., we try to train the same model on locally collected data. Finally, in part III., we use FL to collaboratively train the model, benefiting from the experience of the others.\n",
        "\n",
        "> Hey, I'm Leo 👋\n",
        "> \n",
        "> I’m a doctoral researcher at [IMT Atlantique](https://imt-atlantique.fr) and founded by the chair [Cyber CNI](https://cybercni.fr). My research focuses on collaboration in security systems, and how to share data without compromising on security. I study tools like FL for such purposes. \n",
        ">\n",
        "> You can find the sources of this notebook on [Github](https://github.com/phdcybersec/teaching), and more on me on [my website](https://leolavaur.re).\n",
        "\n",
        "Let's get stated!"
      ]
    },
    {
      "cell_type": "markdown",
      "source": [
        "## Use case and context\n",
        "\n",
        "You're in charge experimenting on novel intrusion detection techniques at your organization. Thanks to the effort of your security operation center (SOC), you have access to labelled network flow, with different attack classes. However, as labelling is extremely resource-consuming, you are limited in data quantity.\n",
        "\n",
        "We will use NSL-KDD, a well known dataset for intrusion detection <a name=\"ref1\"></a>[[1\\]](#note1), to represent the labeled data. However, only a tenth of it is produced by your organization. The other 90% come from other similar institutions working on the same task: you do not have access to their data.\n",
        "\n",
        "Commercial agreements are of no help here. Your hierarchy refuses to share any form of collected data, as it might expose sensitive information. Furthermore, as labeled data has value, the other companies won't share it either. Your goal is to build as collaborative system that you can use with your peers from other organizations to benefit from the experience and training of each other."
      ],
      "metadata": {
        "id": "yvHBzNdUh82i"
      }
    },
    {
      "cell_type": "markdown",
      "metadata": {
        "id": "P4wI45X8kssO"
      },
      "source": [
        "## Prerequisites\n",
        "\n",
        "Before we begin with any actual code, let's make sure that we have everything we need:\n",
        "- some python packages for ML and data processing;\n",
        "- the NSL-KDD dataset."
      ]
    },
    {
      "cell_type": "code",
      "execution_count": 79,
      "metadata": {
        "id": "-Vac4SL3kssO",
        "outputId": "3d5c7798-ef8a-42ba-865b-b691295f5dba",
        "colab": {
          "base_uri": "https://localhost:8080/"
        }
      },
      "outputs": [
        {
          "output_type": "stream",
          "name": "stdout",
          "text": [
            "  % Total    % Received % Xferd  Average Speed   Time    Time     Time  Current\n",
            "                                 Dload  Upload   Total   Spent    Left  Speed\n",
            "100 6444k  100 6444k    0     0   770k      0  0:00:08  0:00:08 --:--:--  929k\n",
            "Archive:  nslkdd.zip\n",
            "  inflating: nslkdd/index.html       \n",
            "  inflating: nslkdd/KDDTest1.jpg     \n",
            "  inflating: nslkdd/KDDTest-21.arff  \n",
            "  inflating: nslkdd/KDDTest-21.txt   \n",
            "  inflating: nslkdd/KDDTest+.arff    \n",
            "  inflating: nslkdd/KDDTest+.txt     \n",
            "  inflating: nslkdd/KDDTrain1.jpg    \n",
            "  inflating: nslkdd/KDDTrain+.arff   \n",
            "  inflating: nslkdd/KDDTrain+.txt    \n",
            "  inflating: nslkdd/KDDTrain+_20Percent.arff  \n",
            "  inflating: nslkdd/KDDTrain+_20Percent.txt  \n"
          ]
        }
      ],
      "source": [
        "!pip install -q flwr[simulation] tensorflow matplotlib pandas numpy sklearn\n",
        "!curl -Lo nslkdd.zip http://205.174.165.80/CICDataset/NSL-KDD/Dataset/NSL-KDD.zip\n",
        "!unzip -o -d nslkdd nslkdd.zip && rm nslkdd.zip"
      ]
    },
    {
      "cell_type": "markdown",
      "metadata": {
        "id": "Mf4Vt3JLkssP"
      },
      "source": [
        "\n",
        "Now that we have all dependencies installed, we can import everything we need for this tutorial:"
      ]
    },
    {
      "cell_type": "code",
      "execution_count": 80,
      "metadata": {
        "id": "Soq-V9bEkssP"
      },
      "outputs": [],
      "source": [
        "import os\n",
        "from collections import OrderedDict\n",
        "from typing import List, Tuple\n",
        "\n",
        "import flwr as fl\n",
        "import matplotlib.pyplot as plt\n",
        "import numpy as np\n",
        "import pandas as pd\n",
        "from flwr.common import Metrics\n",
        "from sklearn.preprocessing import MinMaxScaler\n",
        "\n",
        "# Make TensorFlow logs less verbose\n",
        "os.environ[\"TF_CPP_MIN_LOG_LEVEL\"] = \"3\"\n",
        "import tensorflow as tf\n",
        "\n",
        "# Make keras available in this namespace (for IntelliSense)\n",
        "keras = tf.keras"
      ]
    },
    {
      "cell_type": "markdown",
      "source": [
        "To run this notebook more confortably, consider using a machine with a GPU. On Google Colab, go to `Runtime > Change runtime type > Hardware acclerator: GPU > Save`."
      ],
      "metadata": {
        "id": "fd66GMOeaiRU"
      }
    },
    {
      "cell_type": "code",
      "source": [
        "print(\"Num GPUs Available: \", len(tf.config.list_physical_devices('GPU')))"
      ],
      "metadata": {
        "id": "rTF1nIYga-BB",
        "outputId": "2baea764-d842-41fe-eae8-249763cd17f1",
        "colab": {
          "base_uri": "https://localhost:8080/"
        }
      },
      "execution_count": 81,
      "outputs": [
        {
          "output_type": "stream",
          "name": "stdout",
          "text": [
            "Num GPUs Available:  1\n"
          ]
        }
      ]
    },
    {
      "cell_type": "markdown",
      "source": [
        "Finally, we will set the seed for our PRNGs (pseudo-random number generators), thus making sure that our experiments will always produce the same results. Keras provides a nice API that does exactly this. We also enable Tensorflow's \"determinism\", which avoids concurrent calls to return theiur values in a different order. Without it, ML computations will vary between runs, even with the seed <a name=\"ref3\"></a>[[3\\]](#note3)."
      ],
      "metadata": {
        "id": "GXXrMhwSdmLQ"
      }
    },
    {
      "cell_type": "code",
      "source": [
        "SEED = 1138\n",
        "\n",
        "tf.keras.utils.set_random_seed(SEED)  # sets seeds for base-python, numpy and tf\n",
        "tf.config.experimental.enable_op_determinism()"
      ],
      "metadata": {
        "id": "n8Kcd0a8d84W"
      },
      "execution_count": 82,
      "outputs": []
    },
    {
      "cell_type": "markdown",
      "source": [
        "## Part I. Reviewing the baseline\n",
        "\n",
        "In this section, we build a deep learning (DL) model on NSL-KDD, due to their performance.\n",
        "\n",
        "We start with a *perfect* scenario where we have access to the entire dataset at once. It would mean that, either your organization did a massive effort in terms of data collection and labeling, or you collected datasets from others.\n",
        "\n",
        "This will be the baseline that we'll try to approach thanks to FL.\n"
      ],
      "metadata": {
        "id": "CoAMLGO8wwBy"
      }
    },
    {
      "cell_type": "markdown",
      "source": [
        "### Step 0: Data loading and preprocessing\n",
        "\n",
        "First, we need to load and preprocess our data. NSL-KDD is provided as `.txt` files, but are actually CSV without the corresponding column names. We use `pandas` to load the CSV files as dataframes that we can then manipulate."
      ],
      "metadata": {
        "id": "p-RfmGXKg2ja"
      }
    },
    {
      "cell_type": "code",
      "source": [
        "# column names:\n",
        "# https://github.com/kahramankostas/NSL-KDD-binary-classification-with-Transformer#reading-csv-files\n",
        "c_names = [\n",
        "    \"duration\", \"protocol_type\", \"service\", \"flag\", \"src_bytes\",\n",
        "    \"dst_bytes\", \"land\", \"wrong_fragment\", \"urgent\", \"hot\", \"num_failed_logins\",\n",
        "    \"logged_in\", \"num_compromised\", \"root_shell\", \"su_attempted\", \"num_root\",\n",
        "    \"num_file_creations\", \"num_shells\", \"num_access_files\", \"num_outbound_cmds\",\n",
        "    \"is_host_login\", \"is_guest_login\", \"count\", \"srv_count\", \"serror_rate\",\n",
        "    \"srv_serror_rate\", \"rerror_rate\", \"srv_rerror_rate\", \"same_srv_rate\",\n",
        "    \"diff_srv_rate\", \"srv_diff_host_rate\", \"dst_host_count\",\n",
        "    \"dst_host_srv_count\", \"dst_host_same_srv_rate\", \"dst_host_diff_srv_rate\",\n",
        "    \"dst_host_same_src_port_rate\", \"dst_host_srv_diff_host_rate\", \n",
        "    \"dst_host_serror_rate\", \"dst_host_srv_serror_rate\", \"dst_host_rerror_rate\", \n",
        "    \"dst_host_srv_rerror_rate\", \"label\", \"difficulty\"\n",
        "]\n",
        "\n",
        "# load datasets\n",
        "train_df = pd.read_csv(\"./nslkdd/KDDTrain+.txt\", names=c_names)\n",
        "test_df = pd.read_csv(\"./nslkdd/KDDTest+.txt\", names=c_names)"
      ],
      "metadata": {
        "id": "VQRIK8misbtf"
      },
      "execution_count": 83,
      "outputs": []
    },
    {
      "cell_type": "markdown",
      "source": [
        "The analyzed dataset must be prepared to be processable by our neural network.\n",
        "Usually, NNs require some characteristics:\n",
        "- *Only numerical values.* Classes and text-based attributes must be transformed\n",
        "  to numerical values. This can be easilly done with one-hot encoding as\n",
        "  implemented in `pandas.get_dummies` or `keras.utils.to_categoretical`, except\n",
        "  the latter need values to be already numeric classes.\n",
        "- *Normalized values*. To avoid having one value taking predecence over the\n",
        "  others, values must be normalized over a close range. Since NNs also perform\n",
        "  better with small values, normalization is usually done over the `[0..1]`\n",
        "  range."
      ],
      "metadata": {
        "id": "kbm1dBvpwlY8"
      }
    },
    {
      "cell_type": "code",
      "source": [
        "train_df[\"label\"]\n",
        "type(train_df[\"label\"])"
      ],
      "metadata": {
        "colab": {
          "base_uri": "https://localhost:8080/"
        },
        "id": "MCoQulnPMe51",
        "outputId": "715b5768-d78a-433e-9716-e94f8e5c51fa"
      },
      "execution_count": 84,
      "outputs": [
        {
          "output_type": "execute_result",
          "data": {
            "text/plain": [
              "pandas.core.series.Series"
            ]
          },
          "metadata": {},
          "execution_count": 84
        }
      ]
    },
    {
      "cell_type": "code",
      "source": [
        "# extract the labels for the outputs (will serve as metadata)\n",
        "m_train = train_df[\"label\"]\n",
        "m_test = test_df[\"label\"]\n",
        "\n",
        "# drop labels for input, and difficulty\n",
        "train_df = train_df.drop(columns=['label', 'difficulty'])\n",
        "test_df = test_df.drop(columns=['label', 'difficulty'])\n",
        "\n",
        "# convert classes to numerical values\n",
        "X_train = pd.get_dummies(train_df)\n",
        "X_test = pd.get_dummies(test_df)\n",
        "\n",
        "# reindex the testing dataset so its columns match the training columns\n",
        "X_test = X_test.reindex(columns=X_train.columns, fill_value=0)\n",
        "\n",
        "# normalize input dataframes\n",
        "scaler = MinMaxScaler()\n",
        "scaler.fit(X_train)\n",
        "X_train[X_train.columns] = scaler.transform(X_train)\n",
        "X_test[X_test.columns] = scaler.transform(X_test)\n",
        "\n",
        "print(\"Number of features:\", len(X_train.columns))\n",
        "print(\"Length of training set:\", len(X_train))\n",
        "print(\"Length of testing set:\", len(X_test))\n",
        "print(f\"Label distribution in testing set:\\n{m_test.value_counts()}\")"
      ],
      "metadata": {
        "id": "g-R8-cKiwm-n",
        "colab": {
          "base_uri": "https://localhost:8080/"
        },
        "outputId": "32878b5e-ee29-4a51-e152-62dfdf61cb0a"
      },
      "execution_count": 85,
      "outputs": [
        {
          "output_type": "stream",
          "name": "stdout",
          "text": [
            "Number of features: 122\n",
            "Length of training set: 125973\n",
            "Length of testing set: 22544\n",
            "Label distribution in testing set:\n",
            "normal             9711\n",
            "neptune            4657\n",
            "guess_passwd       1231\n",
            "mscan               996\n",
            "warezmaster         944\n",
            "apache2             737\n",
            "satan               735\n",
            "processtable        685\n",
            "smurf               665\n",
            "back                359\n",
            "snmpguess           331\n",
            "saint               319\n",
            "mailbomb            293\n",
            "snmpgetattack       178\n",
            "portsweep           157\n",
            "ipsweep             141\n",
            "httptunnel          133\n",
            "nmap                 73\n",
            "pod                  41\n",
            "buffer_overflow      20\n",
            "multihop             18\n",
            "named                17\n",
            "ps                   15\n",
            "sendmail             14\n",
            "rootkit              13\n",
            "xterm                13\n",
            "teardrop             12\n",
            "xlock                 9\n",
            "land                  7\n",
            "xsnoop                4\n",
            "ftp_write             3\n",
            "worm                  2\n",
            "loadmodule            2\n",
            "perl                  2\n",
            "sqlattack             2\n",
            "udpstorm              2\n",
            "phf                   2\n",
            "imap                  1\n",
            "Name: label, dtype: int64\n"
          ]
        }
      ]
    },
    {
      "cell_type": "markdown",
      "source": [
        "We will focus on binary classification in this demonstration. Thus, we need to map the current labels to two classes: either benign or malicious. Since the ML model will only work with numerical values, benign becomes `0` and malicious `1`. "
      ],
      "metadata": {
        "id": "NP-r54QBN5oc"
      }
    },
    {
      "cell_type": "code",
      "source": [
        "# apply one-hot encoding to outputs; keep only normal vs abnormal\n",
        "y_train = m_train == 'normal'\n",
        "y_test = m_test == 'normal'\n",
        "\n",
        "#y_train = keras.utils.to_categorical(y_train)\n",
        "#y_test = keras.utils.to_categorical(y_test)\n",
        "y_train = pd.get_dummies(y_train, prefix='Malicious')\n",
        "y_test = pd.get_dummies(y_test, prefix='Malicious')"
      ],
      "metadata": {
        "id": "BQKNnsdh-C2V"
      },
      "execution_count": 93,
      "outputs": []
    },
    {
      "cell_type": "code",
      "source": [
        "y_test.value_counts()"
      ],
      "metadata": {
        "colab": {
          "base_uri": "https://localhost:8080/"
        },
        "id": "H7setQCwQH51",
        "outputId": "bed4e5f9-c431-4c2f-a29c-21e052e0d3bd"
      },
      "execution_count": 94,
      "outputs": [
        {
          "output_type": "execute_result",
          "data": {
            "text/plain": [
              "Malicious_False  Malicious_True\n",
              "1                0                 12833\n",
              "0                1                  9711\n",
              "dtype: int64"
            ]
          },
          "metadata": {},
          "execution_count": 94
        }
      ]
    },
    {
      "cell_type": "markdown",
      "source": [
        "### Step 1: Choosing an deep ML model"
      ],
      "metadata": {
        "id": "lvX74D4MhHR5"
      }
    },
    {
      "cell_type": "markdown",
      "source": [
        "A lot of ML algorithms can be applied to intrusion detection: support vector machines (SVM), random forests (RF), Naive Bayes (NB), or Logistic Regression for instance. The literature started to study neural networks (NN) as an alternative. They represent significant advantages:\n",
        "- NNs can model complex behaviors, allowing better characterization of security events.\n",
        "- When using the correct architecture, NNs do not need extensive feature extraction beforehand, as irrelevant features will not influence the output of the model.\n",
        "- They allow \"easy\" learning over large quantities of data, since less processing is required.\n",
        "\n",
        "Due to their over-representation in the litterature, we will focus on DL for this demonstration. However, FL is not restricted to DL, and other types of architectures can be used, as long as their parameters can be shared and aggregated. We start with a multi-layer perceptron (MLP), but you can use more advanced Keras models if you want."
      ],
      "metadata": {
        "id": "6t9MmKs5cL0Q"
      }
    },
    {
      "cell_type": "markdown",
      "source": [
        "#### Creating a DL model with Keras\n",
        "\n",
        "Keras is a Tensorflow library for deep learning. Is is geared toward usability and \"friendlyness\", which makes it perfect for research applications. Keras exposes human-readable APIs that can be used to design, train, and evaluate, all kinds of neural networks.\n",
        "\n",
        "Let's start by laying out our model's architecutre. Since our formatted NSL-KDD has "
      ],
      "metadata": {
        "id": "FKP8N0zPgZHr"
      }
    },
    {
      "cell_type": "code",
      "source": [
        "n_features = X_train.shape(0)\n",
        "print(n_features)\n",
        "\n",
        "model = keras.Sequential()\n",
        "model.add(keras.Input(n_features))"
      ],
      "metadata": {
        "colab": {
          "base_uri": "https://localhost:8080/",
          "height": 245
        },
        "id": "LsbJ56CRfQoS",
        "outputId": "a17a4edd-5709-4651-f4ae-0227386c171f"
      },
      "execution_count": 95,
      "outputs": [
        {
          "output_type": "error",
          "ename": "TypeError",
          "evalue": "ignored",
          "traceback": [
            "\u001b[0;31m---------------------------------------------------------------------------\u001b[0m",
            "\u001b[0;31mTypeError\u001b[0m                                 Traceback (most recent call last)",
            "\u001b[0;32m<ipython-input-95-1db0e3ed1d4a>\u001b[0m in \u001b[0;36m<cell line: 1>\u001b[0;34m()\u001b[0m\n\u001b[0;32m----> 1\u001b[0;31m \u001b[0mn_features\u001b[0m \u001b[0;34m=\u001b[0m \u001b[0mX_train\u001b[0m\u001b[0;34m.\u001b[0m\u001b[0mshape\u001b[0m\u001b[0;34m(\u001b[0m\u001b[0;36m0\u001b[0m\u001b[0;34m)\u001b[0m\u001b[0;34m\u001b[0m\u001b[0;34m\u001b[0m\u001b[0m\n\u001b[0m\u001b[1;32m      2\u001b[0m \u001b[0mprint\u001b[0m\u001b[0;34m(\u001b[0m\u001b[0mn_features\u001b[0m\u001b[0;34m)\u001b[0m\u001b[0;34m\u001b[0m\u001b[0;34m\u001b[0m\u001b[0m\n\u001b[1;32m      3\u001b[0m \u001b[0;34m\u001b[0m\u001b[0m\n\u001b[1;32m      4\u001b[0m \u001b[0mmodel\u001b[0m \u001b[0;34m=\u001b[0m \u001b[0mkeras\u001b[0m\u001b[0;34m.\u001b[0m\u001b[0mSequential\u001b[0m\u001b[0;34m(\u001b[0m\u001b[0;34m)\u001b[0m\u001b[0;34m\u001b[0m\u001b[0;34m\u001b[0m\u001b[0m\n\u001b[1;32m      5\u001b[0m \u001b[0mmodel\u001b[0m\u001b[0;34m.\u001b[0m\u001b[0madd\u001b[0m\u001b[0;34m(\u001b[0m\u001b[0mkeras\u001b[0m\u001b[0;34m.\u001b[0m\u001b[0mInput\u001b[0m\u001b[0;34m(\u001b[0m\u001b[0mn_features\u001b[0m\u001b[0;34m)\u001b[0m\u001b[0;34m)\u001b[0m\u001b[0;34m\u001b[0m\u001b[0;34m\u001b[0m\u001b[0m\n",
            "\u001b[0;31mTypeError\u001b[0m: 'tuple' object is not callable"
          ]
        }
      ]
    },
    {
      "cell_type": "markdown",
      "source": [
        "### Step 2: Training the model"
      ],
      "metadata": {
        "id": "O0Gm6PUAhWEf"
      }
    },
    {
      "cell_type": "markdown",
      "source": [
        "### Step 3: Analyzing the results"
      ],
      "metadata": {
        "id": "9C1PqAlIha4t"
      }
    },
    {
      "cell_type": "markdown",
      "source": [
        "## Part II. Training on local data"
      ],
      "metadata": {
        "id": "8CJu-d2mmB91"
      }
    },
    {
      "cell_type": "markdown",
      "source": [
        "### Step 0: Splitting data amongst clients"
      ],
      "metadata": {
        "id": "iPp8OJgMmIJX"
      }
    },
    {
      "cell_type": "markdown",
      "source": [
        "### Step 1: Training the model"
      ],
      "metadata": {
        "id": "g3lqjRvPmOB7"
      }
    },
    {
      "cell_type": "markdown",
      "source": [
        "### Step 2: Analyzing the results"
      ],
      "metadata": {
        "id": "HzqWfbW0mdTo"
      }
    },
    {
      "cell_type": "markdown",
      "source": [
        "## Part III. Collaborative Learning with FL"
      ],
      "metadata": {
        "id": "DSn87v7_mgss"
      }
    },
    {
      "cell_type": "markdown",
      "source": [
        "### Step 0: Introduction to FL and Flower"
      ],
      "metadata": {
        "id": "hhZ_uXuKmmq9"
      }
    },
    {
      "cell_type": "markdown",
      "source": [
        "### Step 1: Creating clients"
      ],
      "metadata": {
        "id": "NCvUSsfcmrQR"
      }
    },
    {
      "cell_type": "markdown",
      "source": [
        "### Step 2: Setting up an FL server"
      ],
      "metadata": {
        "id": "rlpgWGx_mxG5"
      }
    },
    {
      "cell_type": "markdown",
      "source": [
        "### Step 3: Federating the learning!"
      ],
      "metadata": {
        "id": "Lcyik2H4m6Fi"
      }
    },
    {
      "cell_type": "markdown",
      "source": [
        "### Step 4: Analyzing the results"
      ],
      "metadata": {
        "id": "XOgxUinZnBV1"
      }
    },
    {
      "cell_type": "markdown",
      "metadata": {
        "id": "araeGb-9kssR"
      },
      "source": [
        "We simulate having multiple datasets from multiple organizations (also called the \"cross-silo\" setting in federated learning) by splitting the original CIFAR-10 dataset into multiple partitions. Each partition will represent the data from a single organization. We're doing this purely for experimentation purposes, in the real world there's no need for data splitting because each organization already has their own data (so the data is naturally partitioned).\n",
        "\n",
        "Each organization will act as a client in the federated learning system. So having ten organizations participate in a federation means having ten clients connected to the federated learning server:\n"
      ]
    },
    {
      "cell_type": "code",
      "execution_count": null,
      "metadata": {
        "id": "M-OsF4rJkssS"
      },
      "outputs": [],
      "source": [
        "NUM_CLIENTS = 10"
      ]
    },
    {
      "cell_type": "markdown",
      "metadata": {
        "id": "aCD27TLxkssS"
      },
      "source": [
        "\n",
        "Let's now load the CIFAR-10 training and test set, partition them into ten smaller datasets (each split into training and validation set), and wrap the resulting partitions by creating a PyTorch `DataLoader` for each of them:"
      ]
    },
    {
      "cell_type": "code",
      "execution_count": null,
      "metadata": {
        "id": "H-f6WTNYkssS"
      },
      "outputs": [],
      "source": [
        "BATCH_SIZE = 32\n",
        "\n",
        "\n",
        "def load_datasets():\n",
        "    # Download and transform CIFAR-10 (train and test)\n",
        "    transform = transforms.Compose(\n",
        "        [transforms.ToTensor(), transforms.Normalize((0.5, 0.5, 0.5), (0.5, 0.5, 0.5))]\n",
        "    )\n",
        "    trainset = CIFAR10(\"./dataset\", train=True, download=True, transform=transform)\n",
        "    testset = CIFAR10(\"./dataset\", train=False, download=True, transform=transform)\n",
        "\n",
        "    # Split training set into 10 partitions to simulate the individual dataset\n",
        "    partition_size = len(trainset) // NUM_CLIENTS\n",
        "    lengths = [partition_size] * NUM_CLIENTS\n",
        "    datasets = random_split(trainset, lengths, torch.Generator().manual_seed(42))\n",
        "\n",
        "    # Split each partition into train/val and create DataLoader\n",
        "    trainloaders = []\n",
        "    valloaders = []\n",
        "    for ds in datasets:\n",
        "        len_val = len(ds) // 10  # 10 % validation set\n",
        "        len_train = len(ds) - len_val\n",
        "        lengths = [len_train, len_val]\n",
        "        ds_train, ds_val = random_split(ds, lengths, torch.Generator().manual_seed(42))\n",
        "        trainloaders.append(DataLoader(ds_train, batch_size=BATCH_SIZE, shuffle=True))\n",
        "        valloaders.append(DataLoader(ds_val, batch_size=BATCH_SIZE))\n",
        "    testloader = DataLoader(testset, batch_size=BATCH_SIZE)\n",
        "    return trainloaders, valloaders, testloader\n",
        "\n",
        "\n",
        "trainloaders, valloaders, testloader = load_datasets()"
      ]
    },
    {
      "cell_type": "markdown",
      "metadata": {
        "id": "TozStKZNkssS"
      },
      "source": [
        "We now have a list of ten training sets and ten validation sets (`trainloaders` and `valloaders`) representing the data of ten different organizations. Each `trainloader`/`valloader` pair contains 4500 training examples and 500 validation examples. There's also a single `testloader` (we did not split the test set). Again, this is only necessary for building research or educational systems, actual federated learning systems have their data naturally distributed across multiple partitions.\n",
        "\n",
        "Let's take a look at the first batch of images and labels in the first training set (i.e., `trainloaders[0]`) before we move on:"
      ]
    },
    {
      "cell_type": "markdown",
      "metadata": {
        "id": "NK-5AlsgkssW"
      },
      "source": [
        "## Final remarks\n",
        "\n",
        "Congratulations, you just trained a convolutional neural network, federated over 10 clients! With that, you understand the basics of federated learning with Flower. The same approach you've seen can be used with other machine learning frameworks (not just PyTorch) and tasks (not just CIFAR-10 images classification), for example NLP with Hugging Face Transformers or speech with SpeechBrain.\n",
        "\n",
        "In the next notebook, we're going to cover some more advanced concepts. Want to customize your strategy? Initialize parameters on the server side? Or evaluate the aggregated model on the server side? We'll cover all this and more in the next tutorial."
      ]
    },
    {
      "cell_type": "markdown",
      "metadata": {
        "id": "Xh9sKNi1kssW"
      },
      "source": [
        "## Next steps\n",
        "\n",
        "Before you continue, make sure to join the Flower community on Slack: [Join Slack](https://flower.dev/join-slack/)\n",
        "\n",
        "There's a dedicated `#questions` channel if you need help, but we'd also love to hear who you are in `#introductions`!\n",
        "\n",
        "The [Flower Federated Learning Tutorial - Part 2](https://flower.dev/docs/tutorial/Flower-2-Strategies-in-FL-PyTorch.html) goes into more depth about strategies and all the advanced things you can build with them."
      ]
    },
    {
      "cell_type": "markdown",
      "source": [
        "## Sources\n",
        "\n",
        "<a name=\"note1\"></a>[[1\\]](#ref1) M. Tavallaee, E. Bagheri, W. Lu, and A. A. Ghorbani, “A detailed analysis of the KDD CUP 99 data set,” in 2009 IEEE Symposium on Computational Intelligence for Security and Defense Applications, Jul. 2009\n",
        "\n",
        "<a name=\"note2\"></a>[[2\\]](#ref2) **TODO**\n",
        "\n",
        "<a name=\"note3\"></a>[[3\\]](#ref3) https://www.tensorflow.org/versions/r2.8/api_docs/python/tf/config/experimental/enable_op_determinism\n"
      ],
      "metadata": {
        "id": "uhA8v6fOxrdn"
      }
    },
    {
      "cell_type": "markdown",
      "source": [
        "## Credits\n",
        "\n",
        "This tutorial is heavily based on the Flower team's tutorials and documentation. You can find the links to some of them below:\n",
        "\n",
        "- [An Introduction to Federated Learning](https://github.com/adap/flower/blob/main/doc/source/tutorial/Flower-1-Intro-to-FL-PyTorch.ipynb)\n",
        "- [Flower Quickstart (Simulation with TensorFlow/Keras)](https://github.com/adap/flower/blob/main/examples/simulation_tensorflow/sim.ipynb)"
      ],
      "metadata": {
        "id": "_imJSUkMUhpL"
      }
    },
    {
      "cell_type": "markdown",
      "source": [
        "\n",
        "\n",
        "---\n",
        "\n",
        "\n",
        "\n",
        "---\n",
        "\n"
      ],
      "metadata": {
        "id": "l2wq_XoEp_3W"
      }
    },
    {
      "cell_type": "markdown",
      "metadata": {
        "id": "5criXFQUkssU"
      },
      "source": [
        "### Training the model\n",
        "\n",
        "We now have all the basic building blocks we need: a dataset, a model, a training function, and a test function. Let's put them together to train the model on the dataset of one of our organizations (`trainloaders[0]`). This simulates the reality of most machine learning projects today: each organization has their own data and trains models only on this internal data: "
      ]
    },
    {
      "cell_type": "code",
      "execution_count": null,
      "metadata": {
        "id": "Ts0U8rozkssU"
      },
      "outputs": [],
      "source": [
        "trainloader = trainloaders[0]\n",
        "valloader = valloaders[0]\n",
        "net = Net().to(DEVICE)\n",
        "\n",
        "for epoch in range(5):\n",
        "    train(net, trainloader, 1)\n",
        "    loss, accuracy = test(net, valloader)\n",
        "    print(f\"Epoch {epoch+1}: validation loss {loss}, accuracy {accuracy}\")\n",
        "\n",
        "loss, accuracy = test(net, testloader)\n",
        "print(f\"Final test set performance:\\n\\tloss {loss}\\n\\taccuracy {accuracy}\")"
      ]
    },
    {
      "cell_type": "markdown",
      "metadata": {
        "id": "fK960grFkssU"
      },
      "source": [
        "Training the simple CNN on our CIFAR-10 split for 5 epochs should result in a test set accuracy of about 41%, which is not good, but at the same time, it doesn't really matter for the purposes of this tutorial. The intent was just to show a simplistic centralized training pipeline that sets the stage for what comes next - federated learning!"
      ]
    },
    {
      "cell_type": "markdown",
      "metadata": {
        "id": "LrU0Uz_KkssU"
      },
      "source": [
        "## Step 2: Federated Learning with Flower\n",
        "\n",
        "Step 1 demonstrated a simple centralized training pipeline. All data was in one place (i.e., a single `trainloader` and a single `valloader`). Next, we'll simulate a situation where we have multiple datasets in multiple organizations and where we train a model over these organizations using federated learning."
      ]
    },
    {
      "cell_type": "markdown",
      "metadata": {
        "id": "oKW_AKt_kssU"
      },
      "source": [
        "### Updating model parameters\n",
        "\n",
        "In federated learning, the server sends the global model parameters to the client, and the client updates the local model with the parameters received from the server. It then trains the model on the local data (which changes the model parameters locally) and sends the updated/changed model parameters back to the server (or, alternatively, it sends just the gradients back to the server, not the full model parameters).\n",
        "\n",
        "We need two helper functions to update the local model with parameters received from the server and to get the updated model parameters from the local model: `set_parameters` and `get_parameters`. The following two functions do just that for the PyTorch model above.\n",
        "\n",
        "The details of how this works are not really important here (feel free to consult the PyTorch documentation if you want to learn more). In essence, we use `state_dict` to access PyTorch model parameter tensors. The parameter tensors are then converted to/from a list of NumPy ndarray's (which Flower knows how to serialize/deserialize):"
      ]
    },
    {
      "cell_type": "code",
      "execution_count": null,
      "metadata": {
        "id": "c9dqt18ckssV"
      },
      "outputs": [],
      "source": [
        "def get_parameters(net) -> List[np.ndarray]:\n",
        "    return [val.cpu().numpy() for _, val in net.state_dict().items()]\n",
        "\n",
        "\n",
        "def set_parameters(net, parameters: List[np.ndarray]):\n",
        "    params_dict = zip(net.state_dict().keys(), parameters)\n",
        "    state_dict = OrderedDict({k: torch.Tensor(v) for k, v in params_dict})\n",
        "    net.load_state_dict(state_dict, strict=True)"
      ]
    },
    {
      "cell_type": "markdown",
      "metadata": {
        "id": "1k0DWHzPkssV"
      },
      "source": [
        "### Implementing a Flower client\n",
        "\n",
        "With that out of the way, let's move on to the interesting part. Federated learning systems consist of a server and multiple clients. In Flower, we create clients by implementing subclasses of `flwr.client.Client` or `flwr.client.NumPyClient`. We use `NumPyClient` in this tutorial because it is easier to implement and requires us to write less boilerplate.\n",
        "\n",
        "To implement the Flower client, we create a subclass of `flwr.client.NumPyClient` and implement the three methods `get_parameters`, `fit`, and `evaluate`:\n",
        "\n",
        "* `get_parameters`: Return the current local model parameters\n",
        "* `fit`: Receive model parameters from the server, train the model parameters on the local data, and return the (updated) model parameters to the server\n",
        "* `evaluate`: Receive model parameters from the server, evaluate the model parameters on the local data, and return the evaluation result to the server\n",
        "\n",
        "We mentioned that our clients will use the previously defined PyTorch components for model training and evaluation. Let's see a simple Flower client implementation that brings everything together:"
      ]
    },
    {
      "cell_type": "code",
      "execution_count": null,
      "metadata": {
        "id": "CKLDn8yBkssV"
      },
      "outputs": [],
      "source": [
        "class FlowerClient(fl.client.NumPyClient):\n",
        "    def __init__(self, net, trainloader, valloader):\n",
        "        self.net = net\n",
        "        self.trainloader = trainloader\n",
        "        self.valloader = valloader\n",
        "\n",
        "    def get_parameters(self, config):\n",
        "        return get_parameters(self.net)\n",
        "\n",
        "    def fit(self, parameters, config):\n",
        "        set_parameters(self.net, parameters)\n",
        "        train(self.net, self.trainloader, epochs=1)\n",
        "        return get_parameters(self.net), len(self.trainloader), {}\n",
        "\n",
        "    def evaluate(self, parameters, config):\n",
        "        set_parameters(self.net, parameters)\n",
        "        loss, accuracy = test(self.net, self.valloader)\n",
        "        return float(loss), len(self.valloader), {\"accuracy\": float(accuracy)}"
      ]
    },
    {
      "cell_type": "markdown",
      "metadata": {
        "id": "-2_qEg1UkssV"
      },
      "source": [
        "Our class `FlowerClient` defines how local training/evaluation will be performed and allows Flower to call the local training/evaluation through `fit` and `evaluate`. Each instance of `FlowerClient` represents a *single client* in our federated learning system. Federated learning systems have multiple clients (otherwise, there's not much to federate), so each client will be represented by its own instance of `FlowerClient`. If we have, for example, three clients in our workload, then we'd have three instances of `FlowerClient`. Flower calls `FlowerClient.fit` on the respective instance when the server selects a particular client for training (and `FlowerClient.evaluate` for evaluation).\n",
        "\n",
        "### Using the Virtual Client Engine\n",
        "\n",
        "In this notebook, we want to simulate a federated learning system with 10 clients on a single machine. This means that the server and all 10 clients will live on a single machine and share resources such as CPU, GPU, and memory. Having 10 clients would mean having 10 instances of `FlowerClient` in memory. Doing this on a single machine can quickly exhaust the available memory resources, even if only a subset of these clients participates in a single round of federated learning.\n",
        "\n",
        "In addition to the regular capabilities where server and clients run on multiple machines, Flower, therefore, provides special simulation capabilities that create `FlowerClient` instances only when they are actually necessary for training or evaluation. To enable the Flower framework to create clients when necessary, we need to implement a function called `client_fn` that creates a `FlowerClient` instance on demand. Flower calls `client_fn` whenever it needs an instance of one particular client to call `fit` or `evaluate` (those instances are usually discarded after use, so they should not keep any local state). Clients are identified by a client ID, or short `cid`. The `cid` can be used, for example, to load different local data partitions for different clients, as can be seen below:"
      ]
    },
    {
      "cell_type": "code",
      "execution_count": null,
      "metadata": {
        "id": "GaZRtZ0skssV"
      },
      "outputs": [],
      "source": [
        "def client_fn(cid: str) -> FlowerClient:\n",
        "    \"\"\"Create a Flower client representing a single organization.\"\"\"\n",
        "\n",
        "    # Load model\n",
        "    net = Net().to(DEVICE)\n",
        "\n",
        "    # Load data (CIFAR-10)\n",
        "    # Note: each client gets a different trainloader/valloader, so each client\n",
        "    # will train and evaluate on their own unique data\n",
        "    trainloader = trainloaders[int(cid)]\n",
        "    valloader = valloaders[int(cid)]\n",
        "\n",
        "    # Create a  single Flower client representing a single organization\n",
        "    return FlowerClient(net, trainloader, valloader)"
      ]
    },
    {
      "cell_type": "markdown",
      "metadata": {
        "id": "8akNfXFDkssV"
      },
      "source": [
        "### Starting the training\n",
        "\n",
        "We now have the class `FlowerClient` which defines client-side training/evaluation and `client_fn` which allows Flower to create `FlowerClient` instances whenever it needs to call `fit` or `evaluate` on one particular client. The last step is to start the actual simulation using `flwr.simulation.start_simulation`. \n",
        "\n",
        "The function `start_simulation` accepts a number of arguments, amongst them the `client_fn` used to create `FlowerClient` instances, the number of clients to simulate (`num_clients`), the number of federated learning rounds (`num_rounds`), and the strategy. The strategy encapsulates the federated learning approach/algorithm, for example, *Federated Averaging* (FedAvg).\n",
        "\n",
        "Flower has a number of built-in strategies, but we can also use our own strategy implementations to customize nearly all aspects of the federated learning approach. For this example, we use the built-in `FedAvg` implementation and customize it using a few basic parameters. The last step is the actual call to `start_simulation` which - you guessed it - starts the simulation:"
      ]
    },
    {
      "cell_type": "code",
      "execution_count": null,
      "metadata": {
        "id": "4YH_H8hSkssW"
      },
      "outputs": [],
      "source": [
        "# Create FedAvg strategy\n",
        "strategy = fl.server.strategy.FedAvg(\n",
        "    fraction_fit=1.0,  # Sample 100% of available clients for training\n",
        "    fraction_evaluate=0.5,  # Sample 50% of available clients for evaluation\n",
        "    min_fit_clients=10,  # Never sample less than 10 clients for training\n",
        "    min_evaluate_clients=5,  # Never sample less than 5 clients for evaluation\n",
        "    min_available_clients=10,  # Wait until all 10 clients are available\n",
        ")\n",
        "\n",
        "# Specify client resources if you need GPU (defaults to 1 CPU and 0 GPU)\n",
        "client_resources = None\n",
        "if DEVICE.type == \"cuda\":\n",
        "    client_resources = {\"num_gpus\": 1}\n",
        "\n",
        "# Start simulation\n",
        "fl.simulation.start_simulation(\n",
        "    client_fn=client_fn,\n",
        "    num_clients=NUM_CLIENTS,\n",
        "    config=fl.server.ServerConfig(num_rounds=5),\n",
        "    strategy=strategy,\n",
        "    client_resources=client_resources,\n",
        ")"
      ]
    },
    {
      "cell_type": "markdown",
      "metadata": {
        "id": "jOW0Ox9pkssW"
      },
      "source": [
        "### Behind the scenes\n",
        "\n",
        "So how does this work? How does Flower execute this simulation?\n",
        "\n",
        "When we call `start_simulation`, we tell Flower that there are 10 clients (`num_clients=10`). Flower then goes ahead an asks the `FedAvg` strategy to select clients. `FedAvg` knows that it should select 100% of the available clients (`fraction_fit=1.0`), so it goes ahead and selects 10 random clients (i.e., 100% of 10).\n",
        "\n",
        "Flower then asks the selected 10 clients to train the model. When the server receives the model parameter updates from the clients, it hands those updates over to the strategy (*FedAvg*) for aggregation. The strategy aggregates those updates and returns the new global model, which then gets used in the next round of federated learning."
      ]
    },
    {
      "cell_type": "markdown",
      "metadata": {
        "id": "mc8ogNqLkssW"
      },
      "source": [
        "### Where's the accuracy?\n",
        "\n",
        "You may have noticed that all metrics except for `losses_distributed` are empty. Where did the `{\"accuracy\": float(accuracy)}` go?\n",
        "\n",
        "Flower can automatically aggregate losses returned by individual clients, but it cannot do the same for metrics in the generic metrics dictionary (the one with the `accuracy` key). Metrics dictionaries can contain very different kinds of metrics and even key/value pairs that are not metrics at all, so the framework does not (and can not) know how to handle these automatically.\n",
        "\n",
        "As users, we need to tell the framework how to handle/aggregate these custom metrics, and we do so by passing metric aggregation functions to the strategy. The strategy will then call these functions whenever it receives fit or evaluate metrics from clients. The two possible functions are `fit_metrics_aggregation_fn` and `evaluate_metrics_aggregation_fn`.\n",
        "\n",
        "Let's create a simple weighted averaging function to aggregate the `accuracy` metric we return from `evaluate`:"
      ]
    },
    {
      "cell_type": "code",
      "execution_count": null,
      "metadata": {
        "id": "L0jkU1B1kssW"
      },
      "outputs": [],
      "source": [
        "def weighted_average(metrics: List[Tuple[int, Metrics]]) -> Metrics:\n",
        "    # Multiply accuracy of each client by number of examples used\n",
        "    accuracies = [num_examples * m[\"accuracy\"] for num_examples, m in metrics]\n",
        "    examples = [num_examples for num_examples, _ in metrics]\n",
        "\n",
        "    # Aggregate and return custom metric (weighted average)\n",
        "    return {\"accuracy\": sum(accuracies) / sum(examples)}"
      ]
    },
    {
      "cell_type": "markdown",
      "metadata": {
        "id": "Vfw7Z_NUkssW"
      },
      "source": [
        "The only thing left to do is to tell the strategy to call this function whenever it receives evaluation metric dictionaries from the clients:"
      ]
    },
    {
      "cell_type": "code",
      "execution_count": null,
      "metadata": {
        "id": "aT7lLaDwkssW"
      },
      "outputs": [],
      "source": [
        "# Create FedAvg strategy\n",
        "strategy = fl.server.strategy.FedAvg(\n",
        "    fraction_fit=1.0,\n",
        "    fraction_evaluate=0.5,\n",
        "    min_fit_clients=10,\n",
        "    min_evaluate_clients=5,\n",
        "    min_available_clients=10,\n",
        "    evaluate_metrics_aggregation_fn=weighted_average,  # <-- pass the metric aggregation function\n",
        ")\n",
        "\n",
        "# Start simulation\n",
        "fl.simulation.start_simulation(\n",
        "    client_fn=client_fn,\n",
        "    num_clients=NUM_CLIENTS,\n",
        "    config=fl.server.ServerConfig(num_rounds=5),\n",
        "    strategy=strategy,\n",
        "    client_resources=client_resources,\n",
        ")"
      ]
    },
    {
      "cell_type": "markdown",
      "metadata": {
        "id": "3UGzYDwtkssW"
      },
      "source": [
        "We now have a full system that performs federated training and federated evaluation. It uses the `weighted_average` function to aggregate custom evaluation metrics and calculates a single `accuracy` metric across all clients on the server side.\n",
        "\n",
        "The other two categories of metrics (`losses_centralized` and `metrics_centralized`) are still empty because they only apply when centralized evaluation is being used. Part two of the Flower tutorial will cover centralized evaluation."
      ]
    }
  ],
  "metadata": {
    "colab": {
      "name": "fl_for_ids_101.ipynb",
      "provenance": []
    },
    "kernelspec": {
      "display_name": "flower",
      "language": "python",
      "name": "python3"
    },
    "accelerator": "GPU",
    "gpuClass": "standard"
  },
  "nbformat": 4,
  "nbformat_minor": 0
}