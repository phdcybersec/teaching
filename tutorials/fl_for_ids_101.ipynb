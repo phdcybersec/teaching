{
  "cells": [
    {
      "cell_type": "markdown",
      "metadata": {
        "id": "dZzf3nBDkssN"
      },
      "source": [
        "# Federated Learning for Intrusion Detection 101\n",
        "\n",
        "<a href=\"https://colab.research.google.com/github/phdcybersec/teaching/blob/main/tutorials/fl_for_ids_101.ipynb\" target=\"_parent\"><img src=\"https://colab.research.google.com/assets/colab-badge.svg\" alt=\"Open In Colab\"/></a>\n",
        "\n",
        "Welcome to this introduction to using federated learning (FL) for intrusion detection!\n",
        "\n",
        "In this notebook, we'll learn how to build a collaborative intrusion detection system (IDS), using [Tensorflow](https://www.tensorflow.org) and the [Flower](https://flower.dev) framework. In part I., we train a ML model to classify intrusion in network flows. In part II., we try to train the same model on locally collected data. Finally, in part III., we use FL to collaboratively train the model, benefiting from the experience of the others.\n",
        "\n",
        "> Hey, I'm Leo 👋\n",
        "> \n",
        "> I’m a doctoral researcher at [IMT Atlantique](https://imt-atlantique.fr) and founded by the chair [Cyber CNI](https://cybercni.fr). My research focuses on collaboration in security systems, and how to share data without compromising on security. I study tools like FL for such purposes. \n",
        ">\n",
        "> You can find the sources of this notebook on [Github](https://github.com/phdcybersec/teaching), and more on me on [my website](https://leolavaur.re).\n",
        "\n",
        "Let's get stated!"
      ]
    },
    {
      "cell_type": "markdown",
      "metadata": {
        "id": "yvHBzNdUh82i"
      },
      "source": [
        "## Use case and context\n",
        "\n",
        "You're in charge experimenting on novel intrusion detection techniques at your organization. Thanks to the effort of your security operation center (SOC), you have access to labelled network flow, with different attack classes. However, as labelling is extremely resource-consuming, you are limited in data quantity.\n",
        "\n",
        "We will use NSL-KDD, a well known dataset for intrusion detection <a name=\"ref1\"></a>[[1\\]](#note1), to represent the labeled data. However, only a tenth of it is produced by your organization. The other 90% come from other similar institutions working on the same task: you do not have access to their data.\n",
        "\n",
        "Commercial agreements are of no help here. Your hierarchy refuses to share any form of collected data, as it might expose sensitive information. Furthermore, as labeled data has value, the other companies won't share it either. Your goal is to build as collaborative system that you can use with your peers from other organizations to benefit from the experience and training of each other."
      ]
    },
    {
      "cell_type": "markdown",
      "metadata": {
        "id": "P4wI45X8kssO"
      },
      "source": [
        "## Prerequisites\n",
        "\n",
        "Before we begin with any actual code, let's make sure that we have everything we need:\n",
        "- some python packages for ML and data processing;\n",
        "- the NSL-KDD dataset."
      ]
    },
    {
      "cell_type": "code",
      "execution_count": 191,
      "metadata": {
        "colab": {
          "base_uri": "https://localhost:8080/"
        },
        "id": "-Vac4SL3kssO",
        "outputId": "3d5c7798-ef8a-42ba-865b-b691295f5dba"
      },
      "outputs": [
        {
          "name": "stderr",
          "output_type": "stream",
          "text": [
            "44545.35s - pydevd: Sending message related to process being replaced timed-out after 5 seconds\n"
          ]
        },
        {
          "name": "stdout",
          "output_type": "stream",
          "text": [
            "  % Total    % Received % Xferd  Average Speed   Time    Time     Time  Current\n",
            "                                 Dload  Upload   Total   Spent    Left  Speed\n",
            " 23 6444k   23 1536k    0     0   382k      0  0:00:16  0:00:04  0:00:12  382k^C\n"
          ]
        },
        {
          "name": "stderr",
          "output_type": "stream",
          "text": [
            "44555.13s - pydevd: Sending message related to process being replaced timed-out after 5 seconds\n"
          ]
        },
        {
          "name": "stdout",
          "output_type": "stream",
          "text": [
            "Archive:  nslkdd.zip\n",
            "  End-of-central-directory signature not found.  Either this file is not\n",
            "  a zipfile, or it constitutes one disk of a multi-part archive.  In the\n",
            "  latter case the central directory and zipfile comment will be found on\n",
            "  the last disk(s) of this archive.\n",
            "unzip:  cannot find zipfile directory in one of nslkdd.zip or\n",
            "        nslkdd.zip.zip, and cannot find nslkdd.zip.ZIP, period.\n"
          ]
        }
      ],
      "source": [
        "# check if we are running on Google Colab\n",
        "if \"google.colab\" in str(get_ipython()):\n",
        "    !pip install -q flwr[simulation] tensorflow matplotlib pandas numpy sklearn\n",
        "else:\n",
        "    # if not, we assume we are running on a local machine were dependencies are already\n",
        "    # installed; cd to a temporary directory to avoid cluttering the current directory\n",
        "    \n",
        "    import os\n",
        "    try:\n",
        "        os.mkdir(\"/tmp/nslkdd\")\n",
        "    except FileExistsError:\n",
        "        pass\n",
        "    os.chdir(\"/tmp/nslkdd\")\n",
        "!curl -Lo nslkdd.zip http://205.174.165.80/CICDataset/NSL-KDD/Dataset/NSL-KDD.zip\n",
        "!unzip -o -d nslkdd nslkdd.zip && rm nslkdd.zip\n",
        "    "
      ]
    },
    {
      "cell_type": "markdown",
      "metadata": {
        "id": "Mf4Vt3JLkssP"
      },
      "source": [
        "\n",
        "Now that we have all dependencies installed, we can import everything we need for this tutorial:"
      ]
    },
    {
      "cell_type": "code",
      "execution_count": null,
      "metadata": {
        "id": "Soq-V9bEkssP"
      },
      "outputs": [],
      "source": [
        "import os\n",
        "from collections import OrderedDict\n",
        "from typing import List, Tuple\n",
        "\n",
        "import flwr as fl\n",
        "import matplotlib.pyplot as plt\n",
        "import numpy as np\n",
        "import pandas as pd\n",
        "from flwr.common import Metrics\n",
        "from sklearn.preprocessing import MinMaxScaler\n",
        "from sklearn.metrics import confusion_matrix\n",
        "from numpy.typing import ArrayLike, NDArray\n",
        "\n",
        "# Make TensorFlow logs less verbose\n",
        "os.environ[\"TF_CPP_MIN_LOG_LEVEL\"] = \"3\"\n",
        "import tensorflow as tf\n",
        "\n",
        "# Make keras available in this namespace (for IntelliSense)\n",
        "keras = tf.keras"
      ]
    },
    {
      "cell_type": "markdown",
      "metadata": {
        "id": "fd66GMOeaiRU"
      },
      "source": [
        "To run this notebook more confortably, consider using a machine with a GPU. On Google Colab, go to `Runtime > Change runtime type > Hardware acclerator: GPU > Save`."
      ]
    },
    {
      "cell_type": "code",
      "execution_count": null,
      "metadata": {
        "colab": {
          "base_uri": "https://localhost:8080/"
        },
        "id": "rTF1nIYga-BB",
        "outputId": "2baea764-d842-41fe-eae8-249763cd17f1"
      },
      "outputs": [
        {
          "name": "stdout",
          "output_type": "stream",
          "text": [
            "Num GPUs Available:  2\n"
          ]
        }
      ],
      "source": [
        "print(\"Num GPUs Available: \", len(tf.config.list_physical_devices('GPU')))"
      ]
    },
    {
      "cell_type": "markdown",
      "metadata": {
        "id": "GXXrMhwSdmLQ"
      },
      "source": [
        "Finally, we will set the seed for our PRNGs (pseudo-random number generators), thus making sure that our experiments will always produce the same results. Keras provides a nice API that does exactly this. We also enable Tensorflow's \"determinism\", which avoids concurrent calls to return theiur values in a different order. Without it, ML computations will vary between runs, even with the seed <a name=\"ref3\"></a>[[3\\]](#note3)."
      ]
    },
    {
      "cell_type": "code",
      "execution_count": null,
      "metadata": {
        "id": "n8Kcd0a8d84W"
      },
      "outputs": [],
      "source": [
        "SEED = 1138\n",
        "\n",
        "tf.keras.utils.set_random_seed(SEED)  # sets seeds for base-python, numpy and tf\n",
        "tf.config.experimental.enable_op_determinism()"
      ]
    },
    {
      "cell_type": "markdown",
      "metadata": {
        "id": "CoAMLGO8wwBy"
      },
      "source": [
        "## Part I. Reviewing the baseline\n",
        "\n",
        "In this section, we build a deep learning (DL) model on NSL-KDD, due to their performance.\n",
        "\n",
        "We start with a *perfect* scenario where we have access to the entire dataset at once. It would mean that, either your organization did a massive effort in terms of data collection and labeling, or you collected datasets from others.\n",
        "\n",
        "This will be the baseline that we'll try to approach thanks to FL.\n"
      ]
    },
    {
      "cell_type": "markdown",
      "metadata": {
        "id": "p-RfmGXKg2ja"
      },
      "source": [
        "### Step 0: Data loading and preprocessing\n",
        "\n",
        "First, we need to load and preprocess our data. NSL-KDD is provided as `.txt` files, but are actually CSV without the corresponding column names. We use `pandas` to load the CSV files as dataframes that we can then manipulate."
      ]
    },
    {
      "cell_type": "code",
      "execution_count": null,
      "metadata": {
        "id": "VQRIK8misbtf"
      },
      "outputs": [],
      "source": [
        "# column names:\n",
        "# https://github.com/kahramankostas/NSL-KDD-binary-classification-with-Transformer#reading-csv-files\n",
        "c_names = [\n",
        "    \"duration\", \"protocol_type\", \"service\", \"flag\", \"src_bytes\",\n",
        "    \"dst_bytes\", \"land\", \"wrong_fragment\", \"urgent\", \"hot\", \"num_failed_logins\",\n",
        "    \"logged_in\", \"num_compromised\", \"root_shell\", \"su_attempted\", \"num_root\",\n",
        "    \"num_file_creations\", \"num_shells\", \"num_access_files\", \"num_outbound_cmds\",\n",
        "    \"is_host_login\", \"is_guest_login\", \"count\", \"srv_count\", \"serror_rate\",\n",
        "    \"srv_serror_rate\", \"rerror_rate\", \"srv_rerror_rate\", \"same_srv_rate\",\n",
        "    \"diff_srv_rate\", \"srv_diff_host_rate\", \"dst_host_count\",\n",
        "    \"dst_host_srv_count\", \"dst_host_same_srv_rate\", \"dst_host_diff_srv_rate\",\n",
        "    \"dst_host_same_src_port_rate\", \"dst_host_srv_diff_host_rate\", \n",
        "    \"dst_host_serror_rate\", \"dst_host_srv_serror_rate\", \"dst_host_rerror_rate\", \n",
        "    \"dst_host_srv_rerror_rate\", \"label\", \"difficulty\"\n",
        "]\n",
        "\n",
        "# load datasets\n",
        "train_df = pd.read_csv(\"./nslkdd/KDDTrain+.txt\", names=c_names)\n",
        "test_df = pd.read_csv(\"./nslkdd/KDDTest+.txt\", names=c_names)"
      ]
    },
    {
      "cell_type": "markdown",
      "metadata": {
        "id": "kbm1dBvpwlY8"
      },
      "source": [
        "The analyzed dataset must be prepared to be processable by our neural network.\n",
        "Usually, NNs require some characteristics:\n",
        "- *Only numerical values.* Classes and text-based attributes must be transformed\n",
        "  to numerical values. This can be easilly done with one-hot encoding as\n",
        "  implemented in `pandas.get_dummies` or `keras.utils.to_categoretical`, except\n",
        "  the latter need values to be already numeric classes.\n",
        "- *Normalized values*. To avoid having one value taking predecence over the\n",
        "  others, values must be normalized over a close range. Since NNs also perform\n",
        "  better with small values, normalization is usually done over the `[0..1]`\n",
        "  range."
      ]
    },
    {
      "cell_type": "code",
      "execution_count": null,
      "metadata": {
        "colab": {
          "base_uri": "https://localhost:8080/"
        },
        "id": "g-R8-cKiwm-n",
        "outputId": "32878b5e-ee29-4a51-e152-62dfdf61cb0a"
      },
      "outputs": [
        {
          "name": "stdout",
          "output_type": "stream",
          "text": [
            "Number of features: 122\n",
            "Length of training set: 125973\n",
            "Length of testing set: 22544\n",
            "Label distribution in testing set:\n",
            "normal             9711\n",
            "neptune            4657\n",
            "guess_passwd       1231\n",
            "mscan               996\n",
            "warezmaster         944\n",
            "apache2             737\n",
            "satan               735\n",
            "processtable        685\n",
            "smurf               665\n",
            "back                359\n",
            "snmpguess           331\n",
            "saint               319\n",
            "mailbomb            293\n",
            "snmpgetattack       178\n",
            "portsweep           157\n",
            "ipsweep             141\n",
            "httptunnel          133\n",
            "nmap                 73\n",
            "pod                  41\n",
            "buffer_overflow      20\n",
            "multihop             18\n",
            "named                17\n",
            "ps                   15\n",
            "sendmail             14\n",
            "rootkit              13\n",
            "xterm                13\n",
            "teardrop             12\n",
            "xlock                 9\n",
            "land                  7\n",
            "xsnoop                4\n",
            "ftp_write             3\n",
            "worm                  2\n",
            "loadmodule            2\n",
            "perl                  2\n",
            "sqlattack             2\n",
            "udpstorm              2\n",
            "phf                   2\n",
            "imap                  1\n",
            "Name: label, dtype: int64\n"
          ]
        }
      ],
      "source": [
        "# extract the labels for the outputs (will serve as metadata)\n",
        "m_train = train_df[\"label\"]\n",
        "m_test = test_df[\"label\"]\n",
        "\n",
        "# drop labels for input, and difficulty\n",
        "train_df = train_df.drop(columns=['label', 'difficulty'])\n",
        "test_df = test_df.drop(columns=['label', 'difficulty'])\n",
        "\n",
        "# convert classes to numerical values\n",
        "X_train = pd.get_dummies(train_df)\n",
        "X_test = pd.get_dummies(test_df)\n",
        "\n",
        "# reindex the testing dataset so its columns match the training columns\n",
        "X_test = X_test.reindex(columns=X_train.columns, fill_value=0)\n",
        "\n",
        "# normalize input dataframes\n",
        "scaler = MinMaxScaler()\n",
        "scaler.fit(X_train)\n",
        "X_train[X_train.columns] = scaler.transform(X_train)\n",
        "X_test[X_test.columns] = scaler.transform(X_test)\n",
        "\n",
        "print(\"Number of features:\", len(X_train.columns))\n",
        "print(\"Length of training set:\", len(X_train))\n",
        "print(\"Length of testing set:\", len(X_test))\n",
        "print(f\"Label distribution in testing set:\\n{m_test.value_counts()}\")"
      ]
    },
    {
      "cell_type": "code",
      "execution_count": null,
      "metadata": {},
      "outputs": [
        {
          "name": "stdout",
          "output_type": "stream",
          "text": [
            "Attack labels: ['neptune' 'warezclient' 'ipsweep' 'portsweep' 'teardrop' 'nmap' 'satan'\n",
            " 'smurf' 'pod' 'back' 'guess_passwd' 'ftp_write' 'multihop' 'rootkit'\n",
            " 'buffer_overflow' 'imap' 'warezmaster' 'phf' 'land' 'loadmodule' 'spy'\n",
            " 'perl']\n"
          ]
        }
      ],
      "source": [
        "ATTACK_LABELS = m_train.unique()[m_train.unique() != 'normal']\n",
        "print(f\"Attack labels: {ATTACK_LABELS}\")"
      ]
    },
    {
      "cell_type": "markdown",
      "metadata": {
        "id": "NP-r54QBN5oc"
      },
      "source": [
        "We will focus on binary classification in this demonstration. Thus, we need to map the current labels to two classes: either benign or malicious. Since the ML model will only work with numerical values, benign becomes `0` and malicious `1`. "
      ]
    },
    {
      "cell_type": "code",
      "execution_count": null,
      "metadata": {
        "id": "BQKNnsdh-C2V"
      },
      "outputs": [],
      "source": [
        "# apply one-hot encoding to outputs; keep only normal vs abnormal\n",
        "y_train = m_train.apply(lambda x: False if x == 'normal' else True)\n",
        "y_test = m_test.apply(lambda x: False if x == 'normal' else True)\n",
        "\n",
        "#y_train = keras.utils.to_categorical(y_train)\n",
        "#y_test = keras.utils.to_categorical(y_test)\n",
        "y_train = pd.get_dummies(y_train, prefix='Malicious')\n",
        "y_test = pd.get_dummies(y_test, prefix='Malicious')"
      ]
    },
    {
      "cell_type": "code",
      "execution_count": null,
      "metadata": {
        "colab": {
          "base_uri": "https://localhost:8080/"
        },
        "id": "H7setQCwQH51",
        "outputId": "bed4e5f9-c431-4c2f-a29c-21e052e0d3bd"
      },
      "outputs": [
        {
          "data": {
            "text/plain": [
              "Malicious_False  Malicious_True\n",
              "0                1                 12833\n",
              "1                0                  9711\n",
              "dtype: int64"
            ]
          },
          "execution_count": 171,
          "metadata": {},
          "output_type": "execute_result"
        }
      ],
      "source": [
        "y_test.value_counts()"
      ]
    },
    {
      "cell_type": "markdown",
      "metadata": {
        "id": "lvX74D4MhHR5"
      },
      "source": [
        "### Step 1: Choosing an deep ML model"
      ]
    },
    {
      "cell_type": "markdown",
      "metadata": {
        "id": "6t9MmKs5cL0Q"
      },
      "source": [
        "A lot of ML algorithms can be applied to intrusion detection: support vector machines (SVM), random forests (RF), Naive Bayes (NB), or Logistic Regression for instance. The literature started to study neural networks (NN) as an alternative. They represent significant advantages:\n",
        "- NNs can model complex behaviors, allowing better characterization of security events.\n",
        "- When using the correct architecture, NNs do not need extensive feature extraction beforehand, as irrelevant features will not influence the output of the model.\n",
        "- They allow \"easy\" learning over large quantities of data, since less processing is required.\n",
        "\n",
        "Due to their over-representation in the litterature, we will focus on DL for this demonstration. However, FL is not restricted to DL, and other types of architectures can be used, as long as their parameters can be shared and aggregated. We start with a multi-layer perceptron (MLP), but you can use more advanced Keras models if you want."
      ]
    },
    {
      "attachments": {},
      "cell_type": "markdown",
      "metadata": {
        "id": "FKP8N0zPgZHr"
      },
      "source": [
        "#### Creating a DL model with Keras\n",
        "\n",
        "Keras is a Tensorflow library for deep learning. Is is geared toward usability and \"friendlyness\", which makes it perfect for research applications. Keras exposes human-readable APIs that can be used to design, train, and evaluate, all kinds of neural networks.\n",
        "\n",
        "Let's start by laying out our model's architecture. Our dataset has 122 features, and we want to classify it into two classes. We will use a simple MLP with two hidden layers, each with 32 neurons. The output layer will have a single neuron, with a sigmoid activation function. We use the `relu` activation function for the hidden layers, as it is the most common one. We use the `adam` optimizer, which is a good default choice for most problems. We use the `binary_crossentropy` loss function, as we are performing a binary classification. "
      ]
    },
    {
      "cell_type": "code",
      "execution_count": null,
      "metadata": {
        "colab": {
          "base_uri": "https://localhost:8080/",
          "height": 244
        },
        "id": "LsbJ56CRfQoS",
        "outputId": "a17a4edd-5709-4651-f4ae-0227386c171f"
      },
      "outputs": [
        {
          "name": "stdout",
          "output_type": "stream",
          "text": [
            "122\n",
            "Model: \"sequential_11\"\n",
            "_________________________________________________________________\n",
            " Layer (type)                Output Shape              Param #   \n",
            "=================================================================\n",
            " dense_33 (Dense)            (None, 32)                3936      \n",
            "                                                                 \n",
            " dense_34 (Dense)            (None, 32)                1056      \n",
            "                                                                 \n",
            " dense_35 (Dense)            (None, 2)                 66        \n",
            "                                                                 \n",
            "=================================================================\n",
            "Total params: 5,058\n",
            "Trainable params: 5,058\n",
            "Non-trainable params: 0\n",
            "_________________________________________________________________\n"
          ]
        }
      ],
      "source": [
        "n_features = X_train.shape[1]\n",
        "print(n_features)\n",
        "\n",
        "def create_model() -> keras.Model:\n",
        "    model = keras.Sequential()\n",
        "    model.add(keras.layers.Dense(32, activation='relu', input_shape=(n_features,)))\n",
        "    model.add(keras.layers.Dense(32, activation='relu'))\n",
        "    model.add(keras.layers.Dense(2, activation='softmax'))\n",
        "\n",
        "    model.compile(\n",
        "        loss='categorical_crossentropy',\n",
        "        optimizer='adam',\n",
        "        metrics=['accuracy']\n",
        "    )\n",
        "    return model\n",
        "\n",
        "\n",
        "model = create_model()\n",
        "model.summary()"
      ]
    },
    {
      "cell_type": "markdown",
      "metadata": {
        "id": "O0Gm6PUAhWEf"
      },
      "source": [
        "### Step 2: Training the model"
      ]
    },
    {
      "attachments": {},
      "cell_type": "markdown",
      "metadata": {},
      "source": [
        "Training a model means finding the best parameters for it, so that it can correctly classify the\n",
        "data. This is done by minimizing a loss function, which is a measure of how well the model performs\n",
        "on the training data. The loss function is computed on the training data, and the model is updated\n",
        "to minimize it. This process is repeated until the loss function converges to a local minimum.\n",
        "\n",
        "We will use the `fit` method of the Keras model to train it over 10 epochs. We will also use a batch\n",
        "size of 32, which means that the model will be updated after each batch of 32 samples. This is a\n",
        "good default value, but you can experiment with it to see if it improves the results.\n",
        "\n",
        "When doing supervised learning, we often keep a validation set to evaluate the model's performance\n",
        "during training. This allows us to see if the model is overfitting, and to stop the training process\n",
        "before it does. We will use 10% of the training data as a validation set."
      ]
    },
    {
      "cell_type": "code",
      "execution_count": null,
      "metadata": {},
      "outputs": [
        {
          "name": "stdout",
          "output_type": "stream",
          "text": [
            "Epoch 1/10\n",
            "3543/3543 [==============================] - 12s 3ms/step - loss: 0.0582 - accuracy: 0.9805 - val_loss: 0.0360 - val_accuracy: 0.9855\n",
            "Epoch 2/10\n",
            "3543/3543 [==============================] - 10s 3ms/step - loss: 0.0312 - accuracy: 0.9888 - val_loss: 0.0279 - val_accuracy: 0.9888\n",
            "Epoch 3/10\n",
            "3543/3543 [==============================] - 10s 3ms/step - loss: 0.0245 - accuracy: 0.9914 - val_loss: 0.0232 - val_accuracy: 0.9910\n",
            "Epoch 4/10\n",
            "3543/3543 [==============================] - 10s 3ms/step - loss: 0.0195 - accuracy: 0.9933 - val_loss: 0.0170 - val_accuracy: 0.9950\n",
            "Epoch 5/10\n",
            "3543/3543 [==============================] - 10s 3ms/step - loss: 0.0168 - accuracy: 0.9941 - val_loss: 0.0162 - val_accuracy: 0.9947\n",
            "Epoch 6/10\n",
            "3543/3543 [==============================] - 10s 3ms/step - loss: 0.0150 - accuracy: 0.9948 - val_loss: 0.0236 - val_accuracy: 0.9897\n",
            "Epoch 7/10\n",
            "3543/3543 [==============================] - 10s 3ms/step - loss: 0.0140 - accuracy: 0.9949 - val_loss: 0.0164 - val_accuracy: 0.9943\n",
            "Epoch 8/10\n",
            "3543/3543 [==============================] - 10s 3ms/step - loss: 0.0131 - accuracy: 0.9953 - val_loss: 0.0139 - val_accuracy: 0.9952\n",
            "Epoch 9/10\n",
            "3543/3543 [==============================] - 9s 3ms/step - loss: 0.0124 - accuracy: 0.9954 - val_loss: 0.0133 - val_accuracy: 0.9958\n",
            "Epoch 10/10\n",
            "3543/3543 [==============================] - 9s 3ms/step - loss: 0.0119 - accuracy: 0.9957 - val_loss: 0.0115 - val_accuracy: 0.9960\n"
          ]
        }
      ],
      "source": [
        "bl_hist = model.fit(X_train, y_train, epochs=10, batch_size=32, verbose=1, validation_split=0.1)\n"
      ]
    },
    {
      "cell_type": "code",
      "execution_count": null,
      "metadata": {},
      "outputs": [
        {
          "data": {
            "image/png": "[encoded data removed]",
            "text/plain": [
              "<Figure size 1500x500 with 2 Axes>"
            ]
          },
          "metadata": {},
          "output_type": "display_data"
        }
      ],
      "source": [
        "# plot training history, loss and accuracy side by side\n",
        "_, (ax1, ax2) = plt.subplots(1, 2, figsize=(15, 5))\n",
        "_min = np.min(bl_hist.history['loss'])\n",
        "ax1.axhline(y=_min, label=f\"Min: {_min:.4f}\", linestyle='--', color='lightcoral')\n",
        "ax1.plot(bl_hist.history['loss'])\n",
        "ax1.set_ylabel('Loss')\n",
        "ax1.set_xlabel('Epoch')\n",
        "ax1.legend()\n",
        "_max = np.max(bl_hist.history['accuracy'])\n",
        "ax2.axhline(y=_max, label=f\"Max: {_max:.4f}\", linestyle='--', color='lightcoral')\n",
        "ax2.plot(bl_hist.history['accuracy'], color='orange')\n",
        "ax2.set_ylabel('Accuracy')\n",
        "ax2.set_xlabel('Epoch')\n",
        "ax2.legend()\n",
        "plt.show()"
      ]
    },
    {
      "cell_type": "markdown",
      "metadata": {
        "id": "9C1PqAlIha4t"
      },
      "source": [
        "### Step 3: Analyzing the results"
      ]
    },
    {
      "attachments": {},
      "cell_type": "markdown",
      "metadata": {},
      "source": [
        "Once the model is trained, we can evaluate its performance on the test set. We will use the\n",
        "`evaluate` method of the Keras model to compute a set of metrics, including the loss function and the accuracy. "
      ]
    },
    {
      "cell_type": "code",
      "execution_count": null,
      "metadata": {},
      "outputs": [
        {
          "name": "stdout",
          "output_type": "stream",
          "text": [
            "Test loss: 1.8433220386505127\n",
            "Test accuracy: 0.7964868545532227\n"
          ]
        }
      ],
      "source": [
        "loss, acc = model.evaluate(X_test, y_test, verbose=0)\n",
        "print(f\"Test loss: {loss}\")\n",
        "print(f\"Test accuracy: {acc}\")\n",
        "\n"
      ]
    },
    {
      "attachments": {},
      "cell_type": "markdown",
      "metadata": {},
      "source": [
        "We can also use the `predict` method to get the model's inferences on the test set. We can then plot\n",
        "a confusion matrix to see how the models characterizes the different classes. In a binary\n",
        "classification, the confusion matrix is a 2x2 matrix, with the following values:\n",
        "- true positives (TP): number of malicious samples that were correctly classified\n",
        "- false positives (FP): number of malicious samples that were missed\n",
        "- true negatives (TN): number of benign samples that were correctly classified\n",
        "- false negatives (FN): number of benign samples that were incorrectly classified as malicious\n",
        "\n",
        "These indicators are used to compute metrics such as precision, recall, and F1-score."
      ]
    },
    {
      "cell_type": "code",
      "execution_count": null,
      "metadata": {},
      "outputs": [
        {
          "name": "stdout",
          "output_type": "stream",
          "text": [
            "705/705 [==============================] - 1s 1ms/step\n",
            "(22544, 2)\n",
            "First 10 predictions:\n",
            "[[5.2579097e-21 1.0000000e+00]\n",
            " [1.6332500e-19 1.0000000e+00]\n",
            " [9.9993229e-01 6.7708883e-05]\n",
            " [3.7903428e-07 9.9999964e-01]\n",
            " [9.6445316e-01 3.5546884e-02]\n",
            " [9.9999857e-01 1.4614752e-06]\n",
            " [6.9132477e-01 3.0867523e-01]\n",
            " [9.9997652e-01 2.3494384e-05]\n",
            " [1.0000000e+00 1.0012818e-09]\n",
            " [9.9997818e-01 2.1779866e-05]]\n"
          ]
        }
      ],
      "source": [
        "inferences = model.predict(X_test)\n",
        "print(inferences.shape)\n",
        "print(f\"First 10 predictions:\\n{inferences[:10]}\")"
      ]
    },
    {
      "attachments": {},
      "cell_type": "markdown",
      "metadata": {},
      "source": [
        "While trained to approach `1` or `0`, the models produces inferences as a tuple of probabilities,\n",
        "one for each class. We can use the `argmax` function to get the class with the highest probability. "
      ]
    },
    {
      "cell_type": "code",
      "execution_count": null,
      "metadata": {},
      "outputs": [
        {
          "name": "stdout",
          "output_type": "stream",
          "text": [
            "True Negatives: 9418\n",
            "False Positives: 293\n",
            "False Negatives: 4295\n",
            "True Positives: 8538\n"
          ]
        },
        {
          "data": {
            "image/png": "[encoded data removed]",
            "text/plain": [
              "<Figure size 800x800 with 2 Axes>"
            ]
          },
          "metadata": {},
          "output_type": "display_data"
        }
      ],
      "source": [
        "# convert to binary\n",
        "y_pred = np.argmax(np.round(inferences), axis=1)\n",
        "y_true = np.argmax(y_test.to_numpy(), axis=1)\n",
        "\n",
        "# plot confusion matrix\n",
        "cm = confusion_matrix(y_true, y_pred)\n",
        "tn, fp, fn, tp = cm.ravel()\n",
        "\n",
        "print(\"True Negatives:\", tn)\n",
        "print(\"False Positives:\", fp)\n",
        "print(\"False Negatives:\", fn)\n",
        "print(\"True Positives:\", tp)\n",
        "\n",
        "def plot_cm(cm):\n",
        "    plt.figure(figsize=(8, 8))\n",
        "    plt.imshow(cm, cmap=plt.cm.Blues)\n",
        "    for i in range(2):\n",
        "        for j in range(2):\n",
        "            plt.text(j, i, cm[i, j], horizontalalignment=\"center\", color=\"white\" if cm[i, j] > cm.max() / 2. else \"black\")\n",
        "    plt.xlabel(\"Predicted label\")\n",
        "    plt.ylabel(\"True label\")\n",
        "    class_names = ['Normal', 'Attack']\n",
        "    tick_marks = np.arange(len(class_names))\n",
        "    plt.xticks(tick_marks, class_names)\n",
        "    plt.yticks(tick_marks, class_names)\n",
        "    plt.title(\"Confusion Matrix\")\n",
        "    plt.colorbar()\n",
        "    plt.show()\n",
        "\n",
        "plot_cm(cm)\n"
      ]
    },
    {
      "attachments": {},
      "cell_type": "markdown",
      "metadata": {},
      "source": [
        "The confusion matrix shows a high number of false positives, which is a common problem in intrusion\n",
        "detection. This means that the model have a tendency to incorrectly classify benign samples as\n",
        "malicious. However, we can establish baselines for the performance of our model, and compare it with\n",
        "the results of local learning and FL."
      ]
    },
    {
      "cell_type": "code",
      "execution_count": null,
      "metadata": {},
      "outputs": [
        {
          "name": "stdout",
          "output_type": "stream",
          "text": [
            "Baseline Accuracy: 0.7965\n",
            "Baseline Precision: 0.9668\n",
            "Baseline Recall: 0.6653\n",
            "Baseline F1: 0.7882\n",
            "Baseline Miss Rate: 0.3347\n"
          ]
        }
      ],
      "source": [
        "bl_acc = (tn + tp) / (tn + fp + fn + tp)\n",
        "bl_prec = tp / (tp + fp)\n",
        "bl_rec = tp / (tp + fn)\n",
        "bl_f1 = 2 * bl_prec * bl_rec / (bl_prec + bl_rec)\n",
        "bl_miss = fn / (fn + tp)\n",
        "\n",
        "print(f\"Baseline Accuracy: {bl_acc:.4f}\")\n",
        "print(f\"Baseline Precision: {bl_prec:.4f}\")\n",
        "print(f\"Baseline Recall: {bl_rec:.4f}\")\n",
        "print(f\"Baseline F1: {bl_f1:.4f}\")\n",
        "print(f\"Baseline Miss Rate: {bl_miss:.4f}\")\n"
      ]
    },
    {
      "attachments": {},
      "cell_type": "markdown",
      "metadata": {},
      "source": [
        "Before continuing, let's write an evaluation function that will allow us to easily evaluate our\n",
        "future models. Let's also save the model's weights, so that we can reuse them later."
      ]
    },
    {
      "cell_type": "code",
      "execution_count": null,
      "metadata": {},
      "outputs": [],
      "source": [
        "from typing import Dict\n",
        "from numpy.typing import NDArray\n",
        "\n",
        "\n",
        "def eval_model(model, X, y) -> Tuple[NDArray, Dict[str, float | int]]:\n",
        "    \"\"\"evaluate the model on the given data and return the confusion matrix and metrics\"\"\"\n",
        "\n",
        "    inferences = model.predict(X)\n",
        "    y_pred = np.argmax(np.round(inferences), axis=1)\n",
        "    y_true = np.argmax(y_test.to_numpy(), axis=1)\n",
        "\n",
        "    cm = confusion_matrix(y_true, y_pred)\n",
        "    tn, fp, fn, tp = cm.ravel()\n",
        "\n",
        "    return cm, {\n",
        "        'accuracy': (tn + tp) / (tn + fp + fn + tp),\n",
        "        'precision': tp / (tp + fp),\n",
        "        'recall': tp / (tp + fn),\n",
        "        'f1': 2 * tp / (2 * tp + fp + fn),\n",
        "        'miss_rate': fn / (fn + tp)\n",
        "    }\n",
        "\n",
        "# save weights in a variable\n",
        "bl_weights = model.get_weights()\n"
      ]
    },
    {
      "cell_type": "markdown",
      "metadata": {
        "id": "8CJu-d2mmB91"
      },
      "source": [
        "## Part II. Training on local data"
      ]
    },
    {
      "attachments": {},
      "cell_type": "markdown",
      "metadata": {},
      "source": [
        "After having seen the performance of a model trained on the entire dataset, we will now train it on\n",
        "a subset of the data, as if your organization only had access its local data. We will then compare\n",
        "the results with the baseline.\n",
        "\n",
        "We simulate having multiple datasets from multiple organizations (also called the \"cross-silo\"\n",
        "setting in federated learning) by splitting NSL-KDD Train+ set into multiple partitions. Each\n",
        "partition will represent one organization. To highlight the knowledge transfer between\n",
        "organizations, we will randomly remove attack classes from each partition. This will simulate \n",
        "organizations that have different expertise and knowledge about the attacks they are facing."
      ]
    },
    {
      "cell_type": "markdown",
      "metadata": {
        "id": "iPp8OJgMmIJX"
      },
      "source": [
        "### Step 0: Splitting data amongst clients"
      ]
    },
    {
      "cell_type": "code",
      "execution_count": null,
      "metadata": {},
      "outputs": [],
      "source": [
        "import math\n",
        "from sklearn.utils import shuffle\n",
        "\n",
        "\n",
        "NUM_CLIENTS = 10\n",
        "NUM_REMOVED_CLASSES = 6\n",
        "\n",
        "# shuffle the data\n",
        "X_train, y_train, m_train = shuffle(X_train, y_train, m_train)\n",
        "\n",
        "# split the data into NUM_CLIENTS parts\n",
        "partition_size = math.floor(len(X_train) / NUM_CLIENTS)\n",
        "partitions = []\n",
        "\n",
        "for i in range(NUM_CLIENTS):\n",
        "    idx_from, idx_to = i * partition_size, (i + 1) * partition_size\n",
        "\n",
        "    X_part = X_train[idx_from:idx_to]\n",
        "    y_part = y_train[idx_from:idx_to]\n",
        "    m_part = m_train[idx_from:idx_to]\n",
        "\n",
        "    # randomly remove NUM_REMOVED_CLASSES from each partition\n",
        "    _rm_classes = np.random.choice(ATTACK_LABELS, NUM_REMOVED_CLASSES, replace=False)\n",
        "\n",
        "    X_part = X_part[m_part.isin(_rm_classes) == False]\n",
        "    y_part = y_part[m_part.isin(_rm_classes) == False]\n",
        "    m_part = m_part[m_part.isin(_rm_classes) == False]\n",
        "    lacks = _rm_classes\n",
        "\n",
        "    partitions.append((X_part, y_part, m_part, lacks))\n",
        "\n"
      ]
    },
    {
      "attachments": {},
      "cell_type": "markdown",
      "metadata": {},
      "source": [
        "To observe the partition we made, we can plot some of them."
      ]
    },
    {
      "cell_type": "code",
      "execution_count": null,
      "metadata": {},
      "outputs": [
        {
          "data": {
            "image/png": "[encoded data removed]",
            "text/plain": [
              "<Figure size 1500x500 with 3 Axes>"
            ]
          },
          "metadata": {},
          "output_type": "display_data"
        }
      ],
      "source": [
        "\n",
        "# plot the distribution of 3 partitions\n",
        "_, (ax1, ax2, ax3) = plt.subplots(1, 3, figsize=(15, 5))\n",
        "ax1.set_title(\"Partition 1\")\n",
        "ax1.set_ylabel(\"Count\")\n",
        "ax1.set_xlabel(\"Attack Label\")\n",
        "ax1.tick_params(axis='x', rotation=90)\n",
        "ax1.bar(partitions[0][2].value_counts().index, partitions[0][2].value_counts())\n",
        "ax2.set_title(\"Partition 2\")\n",
        "ax2.set_ylabel(\"Count\")\n",
        "ax2.set_xlabel(\"Attack Label\")\n",
        "ax2.tick_params(axis='x', rotation=90)\n",
        "ax2.bar(partitions[1][2].value_counts().index, partitions[1][2].value_counts())\n",
        "ax3.set_title(\"Partition 3\")\n",
        "ax3.set_ylabel(\"Count\")\n",
        "ax3.set_xlabel(\"Attack Label\")\n",
        "ax3.tick_params(axis='x', rotation=90)\n",
        "ax3.bar(partitions[2][2].value_counts().index, partitions[2][2].value_counts())\n",
        "plt.show()\n"
      ]
    },
    {
      "attachments": {},
      "cell_type": "markdown",
      "metadata": {
        "id": "g3lqjRvPmOB7"
      },
      "source": [
        "### Step 1: Testing the local models"
      ]
    },
    {
      "attachments": {},
      "cell_type": "markdown",
      "metadata": {},
      "source": [
        "Lets try our model on local data. You can try any partition and observe the results."
      ]
    },
    {
      "cell_type": "code",
      "execution_count": null,
      "metadata": {},
      "outputs": [
        {
          "name": "stdout",
          "output_type": "stream",
          "text": [
            "Epoch 1/10\n",
            "349/349 [==============================] - 2s 4ms/step - loss: 0.1234 - accuracy: 0.9690 - val_loss: 0.0375 - val_accuracy: 0.9839\n",
            "Epoch 2/10\n",
            "349/349 [==============================] - 1s 3ms/step - loss: 0.0370 - accuracy: 0.9854 - val_loss: 0.0258 - val_accuracy: 0.9935\n",
            "Epoch 3/10\n",
            "349/349 [==============================] - 1s 3ms/step - loss: 0.0305 - accuracy: 0.9885 - val_loss: 0.0229 - val_accuracy: 0.9935\n",
            "Epoch 4/10\n",
            "349/349 [==============================] - 1s 3ms/step - loss: 0.0268 - accuracy: 0.9885 - val_loss: 0.0249 - val_accuracy: 0.9927\n",
            "Epoch 5/10\n",
            "349/349 [==============================] - 1s 3ms/step - loss: 0.0245 - accuracy: 0.9909 - val_loss: 0.0220 - val_accuracy: 0.9944\n",
            "Epoch 6/10\n",
            "349/349 [==============================] - 1s 3ms/step - loss: 0.0226 - accuracy: 0.9910 - val_loss: 0.0215 - val_accuracy: 0.9911\n",
            "Epoch 7/10\n",
            "349/349 [==============================] - 1s 3ms/step - loss: 0.0212 - accuracy: 0.9912 - val_loss: 0.0202 - val_accuracy: 0.9944\n",
            "Epoch 8/10\n",
            "349/349 [==============================] - 1s 3ms/step - loss: 0.0199 - accuracy: 0.9915 - val_loss: 0.0198 - val_accuracy: 0.9944\n",
            "Epoch 9/10\n",
            "349/349 [==============================] - 1s 3ms/step - loss: 0.0189 - accuracy: 0.9922 - val_loss: 0.0247 - val_accuracy: 0.9935\n",
            "Epoch 10/10\n",
            "349/349 [==============================] - 1s 3ms/step - loss: 0.0188 - accuracy: 0.9921 - val_loss: 0.0190 - val_accuracy: 0.9927\n"
          ]
        }
      ],
      "source": [
        "model = create_model()\n",
        "\n",
        "part = partitions[2]\n",
        "\n",
        "hist = model.fit(part[0], part[1], epochs=10, batch_size=32, verbose=1, validation_split=0.1)\n",
        "\n"
      ]
    },
    {
      "cell_type": "code",
      "execution_count": null,
      "metadata": {},
      "outputs": [
        {
          "name": "stdout",
          "output_type": "stream",
          "text": [
            "705/705 [==============================] - 1s 1ms/step\n"
          ]
        },
        {
          "data": {
            "image/png": "[encoded data removed]",
            "text/plain": [
              "<Figure size 800x800 with 2 Axes>"
            ]
          },
          "metadata": {},
          "output_type": "display_data"
        }
      ],
      "source": [
        "cm, metrics = eval_model(model, X_test, y_test)\n",
        "plot_cm(cm)"
      ]
    },
    {
      "attachments": {},
      "cell_type": "markdown",
      "metadata": {},
      "source": [
        "We can already see a slight increase in both false positives and false negatives. While some\n",
        "*behaviors* can overlap between attack classes, such as bruteforce attacks and DoS attacks, the lack\n",
        "of some attack samples will prevent it to proporly learn them. \n",
        "\n",
        "We can also compare the results with the baseline we trained earlier. "
      ]
    },
    {
      "cell_type": "code",
      "execution_count": null,
      "metadata": {},
      "outputs": [
        {
          "name": "stdout",
          "output_type": "stream",
          "text": [
            "Accuracy: 0.7532 (Baseline: 0.7965, % Diff: -5.43)\n",
            "Precision: 0.9216 (Baseline: 0.9668, % Diff: -4.68)\n",
            "Recall: 0.6192 (Baseline: 0.6653, % Diff: -6.93)\n",
            "F1: 0.7407 (Baseline: 0.7882, % Diff: -6.03)\n",
            "Miss Rate: 0.3808 (Baseline: 0.3347, % Diff: 13.78)\n"
          ]
        }
      ],
      "source": [
        "# print model metrics against the baseline\n",
        "print(f\"Accuracy: {metrics['accuracy']:.4f} (Baseline: {bl_acc:.4f}, % Diff: {100 * (metrics['accuracy'] - bl_acc) / bl_acc:.2f})\")\n",
        "print(f\"Precision: {metrics['precision']:.4f} (Baseline: {bl_prec:.4f}, % Diff: {100 * (metrics['precision'] - bl_prec) / bl_prec:.2f})\")\n",
        "print(f\"Recall: {metrics['recall']:.4f} (Baseline: {bl_rec:.4f}, % Diff: {100 * (metrics['recall'] - bl_rec) / bl_rec:.2f})\")\n",
        "print(f\"F1: {metrics['f1']:.4f} (Baseline: {bl_f1:.4f}, % Diff: {100 * (metrics['f1'] - bl_f1) / bl_f1:.2f})\")\n",
        "print(f\"Miss Rate: {metrics['miss_rate']:.4f} (Baseline: {bl_miss:.4f}, % Diff: {100 * (metrics['miss_rate'] - bl_miss) / bl_miss:.2f})\")\n"
      ]
    },
    {
      "attachments": {},
      "cell_type": "markdown",
      "metadata": {},
      "source": [
        "The results are significantly worse than the baseline. Let's focus on the attacks that were removed\n",
        "and see how the model was able to generalize."
      ]
    },
    {
      "cell_type": "code",
      "execution_count": 190,
      "metadata": {},
      "outputs": [
        {
          "name": "stdout",
          "output_type": "stream",
          "text": [
            "705/705 [==============================] - 1s 1ms/step\n",
            "Percentage of removed attacks detected: 10.51%\n"
          ]
        },
        {
          "ename": "NameError",
          "evalue": "name 'bl_weights' is not defined",
          "output_type": "error",
          "traceback": [
            "\u001b[0;31m---------------------------------------------------------------------------\u001b[0m",
            "\u001b[0;31mNameError\u001b[0m                                 Traceback (most recent call last)",
            "Cell \u001b[0;32mIn[190], line 11\u001b[0m\n\u001b[1;32m      8\u001b[0m \u001b[39mprint\u001b[39m(\u001b[39mf\u001b[39m\u001b[39m\"\u001b[39m\u001b[39mPercentage of removed attacks detected: \u001b[39m\u001b[39m{\u001b[39;00m\u001b[39m100\u001b[39m\u001b[39m \u001b[39m\u001b[39m*\u001b[39m\u001b[39m \u001b[39m\u001b[39mlen\u001b[39m(y_pred_lack[y_pred_lack\u001b[39m \u001b[39m\u001b[39m==\u001b[39m\u001b[39m \u001b[39m\u001b[39m1\u001b[39m])\u001b[39m \u001b[39m\u001b[39m/\u001b[39m\u001b[39m \u001b[39m\u001b[39mlen\u001b[39m(y_pred_lack)\u001b[39m:\u001b[39;00m\u001b[39m.2f\u001b[39m\u001b[39m}\u001b[39;00m\u001b[39m%\u001b[39m\u001b[39m\"\u001b[39m)\n\u001b[1;32m     10\u001b[0m \u001b[39m# try with the baseline model\u001b[39;00m\n\u001b[0;32m---> 11\u001b[0m model\u001b[39m.\u001b[39mset_weights(bl_weights)\n\u001b[1;32m     13\u001b[0m inferences \u001b[39m=\u001b[39m model\u001b[39m.\u001b[39mpredict(X_test)\n\u001b[1;32m     15\u001b[0m y_pred \u001b[39m=\u001b[39m np\u001b[39m.\u001b[39margmax(np\u001b[39m.\u001b[39mround(inferences), axis\u001b[39m=\u001b[39m\u001b[39m1\u001b[39m)\n",
            "\u001b[0;31mNameError\u001b[0m: name 'bl_weights' is not defined"
          ]
        }
      ],
      "source": [
        "inferences = model.predict(X_test)\n",
        "\n",
        "y_pred = np.argmax(np.round(inferences), axis=1)\n",
        "\n",
        "# remember: part[3] contains a list of the removed classes\n",
        "y_pred_lack = y_pred[m_test.isin(part[3])]\n",
        "\n",
        "print(f\"Percentage of removed attacks detected (Local): {100 * len(y_pred_lack[y_pred_lack == 1]) / len(y_pred_lack):.2f}%\")\n",
        "\n",
        "# try with the baseline model\n",
        "model.set_weights(bl_weights)\n",
        "\n",
        "inferences = model.predict(X_test)\n",
        "\n",
        "y_pred = np.argmax(np.round(inferences), axis=1)\n",
        "y_pred_lack = y_pred[m_test.isin(part[3])]\n",
        "print(f\"Percentage of removed attacks detected (Baseline): {100 * len(y_pred_lack[y_pred_lack == 1]) / len(y_pred_lack):.2f}%\")\n"
      ]
    },
    {
      "cell_type": "markdown",
      "metadata": {
        "id": "DSn87v7_mgss"
      },
      "source": [
        "## Part III. Collaborative Learning with FL"
      ]
    },
    {
      "cell_type": "markdown",
      "metadata": {
        "id": "hhZ_uXuKmmq9"
      },
      "source": [
        "### Step 0: Introduction to FL and Flower"
      ]
    },
    {
      "cell_type": "markdown",
      "metadata": {
        "id": "NCvUSsfcmrQR"
      },
      "source": [
        "### Step 1: Creating clients"
      ]
    },
    {
      "cell_type": "markdown",
      "metadata": {
        "id": "rlpgWGx_mxG5"
      },
      "source": [
        "### Step 2: Setting up an FL server"
      ]
    },
    {
      "cell_type": "markdown",
      "metadata": {
        "id": "Lcyik2H4m6Fi"
      },
      "source": [
        "### Step 3: Federating the learning!"
      ]
    },
    {
      "cell_type": "markdown",
      "metadata": {
        "id": "XOgxUinZnBV1"
      },
      "source": [
        "### Step 4: Analyzing the results"
      ]
    },
    {
      "cell_type": "markdown",
      "metadata": {
        "id": "araeGb-9kssR"
      },
      "source": [
        "We simulate having multiple datasets from multiple organizations (also called the \"cross-silo\" setting in federated learning) by splitting the original CIFAR-10 dataset into multiple partitions. Each partition will represent the data from a single organization. We're doing this purely for experimentation purposes, in the real world there's no need for data splitting because each organization already has their own data (so the data is naturally partitioned).\n",
        "\n",
        "Each organization will act as a client in the federated learning system. So having ten organizations participate in a federation means having ten clients connected to the federated learning server:\n"
      ]
    },
    {
      "cell_type": "code",
      "execution_count": 186,
      "metadata": {
        "id": "M-OsF4rJkssS"
      },
      "outputs": [],
      "source": [
        "NUM_CLIENTS = 10"
      ]
    },
    {
      "cell_type": "markdown",
      "metadata": {
        "id": "aCD27TLxkssS"
      },
      "source": [
        "\n",
        "Let's now load the CIFAR-10 training and test set, partition them into ten smaller datasets (each split into training and validation set), and wrap the resulting partitions by creating a PyTorch `DataLoader` for each of them:"
      ]
    },
    {
      "cell_type": "code",
      "execution_count": 187,
      "metadata": {
        "id": "H-f6WTNYkssS"
      },
      "outputs": [
        {
          "ename": "NameError",
          "evalue": "name 'transforms' is not defined",
          "output_type": "error",
          "traceback": [
            "\u001b[0;31m---------------------------------------------------------------------------\u001b[0m",
            "\u001b[0;31mNameError\u001b[0m                                 Traceback (most recent call last)",
            "Cell \u001b[0;32mIn[187], line 31\u001b[0m\n\u001b[1;32m     27\u001b[0m     testloader \u001b[39m=\u001b[39m DataLoader(testset, batch_size\u001b[39m=\u001b[39mBATCH_SIZE)\n\u001b[1;32m     28\u001b[0m     \u001b[39mreturn\u001b[39;00m trainloaders, valloaders, testloader\n\u001b[0;32m---> 31\u001b[0m trainloaders, valloaders, testloader \u001b[39m=\u001b[39m load_datasets()\n",
            "Cell \u001b[0;32mIn[187], line 6\u001b[0m, in \u001b[0;36mload_datasets\u001b[0;34m()\u001b[0m\n\u001b[1;32m      4\u001b[0m \u001b[39mdef\u001b[39;00m \u001b[39mload_datasets\u001b[39m():\n\u001b[1;32m      5\u001b[0m     \u001b[39m# Download and transform CIFAR-10 (train and test)\u001b[39;00m\n\u001b[0;32m----> 6\u001b[0m     transform \u001b[39m=\u001b[39m transforms\u001b[39m.\u001b[39mCompose(\n\u001b[1;32m      7\u001b[0m         [transforms\u001b[39m.\u001b[39mToTensor(), transforms\u001b[39m.\u001b[39mNormalize((\u001b[39m0.5\u001b[39m, \u001b[39m0.5\u001b[39m, \u001b[39m0.5\u001b[39m), (\u001b[39m0.5\u001b[39m, \u001b[39m0.5\u001b[39m, \u001b[39m0.5\u001b[39m))]\n\u001b[1;32m      8\u001b[0m     )\n\u001b[1;32m      9\u001b[0m     trainset \u001b[39m=\u001b[39m CIFAR10(\u001b[39m\"\u001b[39m\u001b[39m./dataset\u001b[39m\u001b[39m\"\u001b[39m, train\u001b[39m=\u001b[39m\u001b[39mTrue\u001b[39;00m, download\u001b[39m=\u001b[39m\u001b[39mTrue\u001b[39;00m, transform\u001b[39m=\u001b[39mtransform)\n\u001b[1;32m     10\u001b[0m     testset \u001b[39m=\u001b[39m CIFAR10(\u001b[39m\"\u001b[39m\u001b[39m./dataset\u001b[39m\u001b[39m\"\u001b[39m, train\u001b[39m=\u001b[39m\u001b[39mFalse\u001b[39;00m, download\u001b[39m=\u001b[39m\u001b[39mTrue\u001b[39;00m, transform\u001b[39m=\u001b[39mtransform)\n",
            "\u001b[0;31mNameError\u001b[0m: name 'transforms' is not defined"
          ]
        }
      ],
      "source": [
        "BATCH_SIZE = 32\n",
        "\n",
        "\n",
        "def load_datasets():\n",
        "    # Download and transform CIFAR-10 (train and test)\n",
        "    transform = transforms.Compose(\n",
        "        [transforms.ToTensor(), transforms.Normalize((0.5, 0.5, 0.5), (0.5, 0.5, 0.5))]\n",
        "    )\n",
        "    trainset = CIFAR10(\"./dataset\", train=True, download=True, transform=transform)\n",
        "    testset = CIFAR10(\"./dataset\", train=False, download=True, transform=transform)\n",
        "\n",
        "    # Split training set into 10 partitions to simulate the individual dataset\n",
        "    partition_size = len(trainset) // NUM_CLIENTS\n",
        "    lengths = [partition_size] * NUM_CLIENTS\n",
        "    datasets = random_split(trainset, lengths, torch.Generator().manual_seed(42))\n",
        "\n",
        "    # Split each partition into train/val and create DataLoader\n",
        "    trainloaders = []\n",
        "    valloaders = []\n",
        "    for ds in datasets:\n",
        "        len_val = len(ds) // 10  # 10 % validation set\n",
        "        len_train = len(ds) - len_val\n",
        "        lengths = [len_train, len_val]\n",
        "        ds_train, ds_val = random_split(ds, lengths, torch.Generator().manual_seed(42))\n",
        "        trainloaders.append(DataLoader(ds_train, batch_size=BATCH_SIZE, shuffle=True))\n",
        "        valloaders.append(DataLoader(ds_val, batch_size=BATCH_SIZE))\n",
        "    testloader = DataLoader(testset, batch_size=BATCH_SIZE)\n",
        "    return trainloaders, valloaders, testloader\n",
        "\n",
        "\n",
        "trainloaders, valloaders, testloader = load_datasets()"
      ]
    },
    {
      "cell_type": "markdown",
      "metadata": {
        "id": "TozStKZNkssS"
      },
      "source": [
        "We now have a list of ten training sets and ten validation sets (`trainloaders` and `valloaders`) representing the data of ten different organizations. Each `trainloader`/`valloader` pair contains 4500 training examples and 500 validation examples. There's also a single `testloader` (we did not split the test set). Again, this is only necessary for building research or educational systems, actual federated learning systems have their data naturally distributed across multiple partitions.\n",
        "\n",
        "Let's take a look at the first batch of images and labels in the first training set (i.e., `trainloaders[0]`) before we move on:"
      ]
    },
    {
      "cell_type": "markdown",
      "metadata": {
        "id": "NK-5AlsgkssW"
      },
      "source": [
        "## Final remarks\n",
        "\n",
        "Congratulations, you just trained a convolutional neural network, federated over 10 clients! With that, you understand the basics of federated learning with Flower. The same approach you've seen can be used with other machine learning frameworks (not just PyTorch) and tasks (not just CIFAR-10 images classification), for example NLP with Hugging Face Transformers or speech with SpeechBrain.\n",
        "\n",
        "In the next notebook, we're going to cover some more advanced concepts. Want to customize your strategy? Initialize parameters on the server side? Or evaluate the aggregated model on the server side? We'll cover all this and more in the next tutorial."
      ]
    },
    {
      "cell_type": "markdown",
      "metadata": {
        "id": "Xh9sKNi1kssW"
      },
      "source": [
        "## Next steps\n",
        "\n",
        "Before you continue, make sure to join the Flower community on Slack: [Join Slack](https://flower.dev/join-slack/)\n",
        "\n",
        "There's a dedicated `#questions` channel if you need help, but we'd also love to hear who you are in `#introductions`!\n",
        "\n",
        "The [Flower Federated Learning Tutorial - Part 2](https://flower.dev/docs/tutorial/Flower-2-Strategies-in-FL-PyTorch.html) goes into more depth about strategies and all the advanced things you can build with them."
      ]
    },
    {
      "cell_type": "markdown",
      "metadata": {
        "id": "uhA8v6fOxrdn"
      },
      "source": [
        "## Sources\n",
        "\n",
        "<a name=\"note1\"></a>[[1\\]](#ref1) M. Tavallaee, E. Bagheri, W. Lu, and A. A. Ghorbani, “A detailed analysis of the KDD CUP 99 data set,” in 2009 IEEE Symposium on Computational Intelligence for Security and Defense Applications, Jul. 2009\n",
        "\n",
        "<a name=\"note2\"></a>[[2\\]](#ref2) **TODO**\n",
        "\n",
        "<a name=\"note3\"></a>[[3\\]](#ref3) https://www.tensorflow.org/versions/r2.8/api_docs/python/tf/config/experimental/enable_op_determinism\n"
      ]
    },
    {
      "cell_type": "markdown",
      "metadata": {
        "id": "_imJSUkMUhpL"
      },
      "source": [
        "## Credits\n",
        "\n",
        "This tutorial is heavily based on the Flower team's tutorials and documentation. You can find the links to some of them below:\n",
        "\n",
        "- [An Introduction to Federated Learning](https://github.com/adap/flower/blob/main/doc/source/tutorial/Flower-1-Intro-to-FL-PyTorch.ipynb)\n",
        "- [Flower Quickstart (Simulation with TensorFlow/Keras)](https://github.com/adap/flower/blob/main/examples/simulation_tensorflow/sim.ipynb)"
      ]
    },
    {
      "cell_type": "markdown",
      "metadata": {
        "id": "l2wq_XoEp_3W"
      },
      "source": [
        "\n",
        "\n",
        "---\n",
        "\n",
        "\n",
        "\n",
        "---\n",
        "\n"
      ]
    },
    {
      "cell_type": "markdown",
      "metadata": {
        "id": "5criXFQUkssU"
      },
      "source": [
        "### Training the model\n",
        "\n",
        "We now have all the basic building blocks we need: a dataset, a model, a training function, and a test function. Let's put them together to train the model on the dataset of one of our organizations (`trainloaders[0]`). This simulates the reality of most machine learning projects today: each organization has their own data and trains models only on this internal data: "
      ]
    },
    {
      "cell_type": "code",
      "execution_count": null,
      "metadata": {
        "id": "Ts0U8rozkssU"
      },
      "outputs": [
        {
          "ename": "",
          "evalue": "",
          "output_type": "error",
          "traceback": [
            "\u001b[1;31mÉchec du démarrage du Kernel. \n",
            "\u001b[1;31mKernel connection disconnected. \n",
            "\u001b[1;31mPour plus d’informations, consultez Jupyter <a href='command:jupyter.viewOutput'>log</a>."
          ]
        }
      ],
      "source": [
        "trainloader = trainloaders[0]\n",
        "valloader = valloaders[0]\n",
        "net = Net().to(DEVICE)\n",
        "\n",
        "for epoch in range(5):\n",
        "    train(net, trainloader, 1)\n",
        "    loss, accuracy = test(net, valloader)\n",
        "    print(f\"Epoch {epoch+1}: validation loss {loss}, accuracy {accuracy}\")\n",
        "\n",
        "loss, accuracy = test(net, testloader)\n",
        "print(f\"Final test set performance:\\n\\tloss {loss}\\n\\taccuracy {accuracy}\")"
      ]
    },
    {
      "cell_type": "markdown",
      "metadata": {
        "id": "fK960grFkssU"
      },
      "source": [
        "Training the simple CNN on our CIFAR-10 split for 5 epochs should result in a test set accuracy of about 41%, which is not good, but at the same time, it doesn't really matter for the purposes of this tutorial. The intent was just to show a simplistic centralized training pipeline that sets the stage for what comes next - federated learning!"
      ]
    },
    {
      "cell_type": "markdown",
      "metadata": {
        "id": "LrU0Uz_KkssU"
      },
      "source": [
        "## Step 2: Federated Learning with Flower\n",
        "\n",
        "Step 1 demonstrated a simple centralized training pipeline. All data was in one place (i.e., a single `trainloader` and a single `valloader`). Next, we'll simulate a situation where we have multiple datasets in multiple organizations and where we train a model over these organizations using federated learning."
      ]
    },
    {
      "cell_type": "markdown",
      "metadata": {
        "id": "oKW_AKt_kssU"
      },
      "source": [
        "### Updating model parameters\n",
        "\n",
        "In federated learning, the server sends the global model parameters to the client, and the client updates the local model with the parameters received from the server. It then trains the model on the local data (which changes the model parameters locally) and sends the updated/changed model parameters back to the server (or, alternatively, it sends just the gradients back to the server, not the full model parameters).\n",
        "\n",
        "We need two helper functions to update the local model with parameters received from the server and to get the updated model parameters from the local model: `set_parameters` and `get_parameters`. The following two functions do just that for the PyTorch model above.\n",
        "\n",
        "The details of how this works are not really important here (feel free to consult the PyTorch documentation if you want to learn more). In essence, we use `state_dict` to access PyTorch model parameter tensors. The parameter tensors are then converted to/from a list of NumPy ndarray's (which Flower knows how to serialize/deserialize):"
      ]
    },
    {
      "cell_type": "code",
      "execution_count": null,
      "metadata": {
        "id": "c9dqt18ckssV"
      },
      "outputs": [
        {
          "ename": "",
          "evalue": "",
          "output_type": "error",
          "traceback": [
            "\u001b[1;31mÉchec du démarrage du Kernel. \n",
            "\u001b[1;31mKernel connection disconnected. \n",
            "\u001b[1;31mPour plus d’informations, consultez Jupyter <a href='command:jupyter.viewOutput'>log</a>."
          ]
        }
      ],
      "source": [
        "def get_parameters(net) -> List[np.ndarray]:\n",
        "    return [val.cpu().numpy() for _, val in net.state_dict().items()]\n",
        "\n",
        "\n",
        "def set_parameters(net, parameters: List[np.ndarray]):\n",
        "    params_dict = zip(net.state_dict().keys(), parameters)\n",
        "    state_dict = OrderedDict({k: torch.Tensor(v) for k, v in params_dict})\n",
        "    net.load_state_dict(state_dict, strict=True)"
      ]
    },
    {
      "cell_type": "markdown",
      "metadata": {
        "id": "1k0DWHzPkssV"
      },
      "source": [
        "### Implementing a Flower client\n",
        "\n",
        "With that out of the way, let's move on to the interesting part. Federated learning systems consist of a server and multiple clients. In Flower, we create clients by implementing subclasses of `flwr.client.Client` or `flwr.client.NumPyClient`. We use `NumPyClient` in this tutorial because it is easier to implement and requires us to write less boilerplate.\n",
        "\n",
        "To implement the Flower client, we create a subclass of `flwr.client.NumPyClient` and implement the three methods `get_parameters`, `fit`, and `evaluate`:\n",
        "\n",
        "* `get_parameters`: Return the current local model parameters\n",
        "* `fit`: Receive model parameters from the server, train the model parameters on the local data, and return the (updated) model parameters to the server\n",
        "* `evaluate`: Receive model parameters from the server, evaluate the model parameters on the local data, and return the evaluation result to the server\n",
        "\n",
        "We mentioned that our clients will use the previously defined PyTorch components for model training and evaluation. Let's see a simple Flower client implementation that brings everything together:"
      ]
    },
    {
      "cell_type": "code",
      "execution_count": null,
      "metadata": {
        "id": "CKLDn8yBkssV"
      },
      "outputs": [
        {
          "ename": "",
          "evalue": "",
          "output_type": "error",
          "traceback": [
            "\u001b[1;31mÉchec du démarrage du Kernel. \n",
            "\u001b[1;31mKernel connection disconnected. \n",
            "\u001b[1;31mPour plus d’informations, consultez Jupyter <a href='command:jupyter.viewOutput'>log</a>."
          ]
        }
      ],
      "source": [
        "class FlowerClient(fl.client.NumPyClient):\n",
        "    def __init__(self, net, trainloader, valloader):\n",
        "        self.net = net\n",
        "        self.trainloader = trainloader\n",
        "        self.valloader = valloader\n",
        "\n",
        "    def get_parameters(self, config):\n",
        "        return get_parameters(self.net)\n",
        "\n",
        "    def fit(self, parameters, config):\n",
        "        set_parameters(self.net, parameters)\n",
        "        train(self.net, self.trainloader, epochs=1)\n",
        "        return get_parameters(self.net), len(self.trainloader), {}\n",
        "\n",
        "    def evaluate(self, parameters, config):\n",
        "        set_parameters(self.net, parameters)\n",
        "        loss, accuracy = test(self.net, self.valloader)\n",
        "        return float(loss), len(self.valloader), {\"accuracy\": float(accuracy)}"
      ]
    },
    {
      "cell_type": "markdown",
      "metadata": {
        "id": "-2_qEg1UkssV"
      },
      "source": [
        "Our class `FlowerClient` defines how local training/evaluation will be performed and allows Flower to call the local training/evaluation through `fit` and `evaluate`. Each instance of `FlowerClient` represents a *single client* in our federated learning system. Federated learning systems have multiple clients (otherwise, there's not much to federate), so each client will be represented by its own instance of `FlowerClient`. If we have, for example, three clients in our workload, then we'd have three instances of `FlowerClient`. Flower calls `FlowerClient.fit` on the respective instance when the server selects a particular client for training (and `FlowerClient.evaluate` for evaluation).\n",
        "\n",
        "### Using the Virtual Client Engine\n",
        "\n",
        "In this notebook, we want to simulate a federated learning system with 10 clients on a single machine. This means that the server and all 10 clients will live on a single machine and share resources such as CPU, GPU, and memory. Having 10 clients would mean having 10 instances of `FlowerClient` in memory. Doing this on a single machine can quickly exhaust the available memory resources, even if only a subset of these clients participates in a single round of federated learning.\n",
        "\n",
        "In addition to the regular capabilities where server and clients run on multiple machines, Flower, therefore, provides special simulation capabilities that create `FlowerClient` instances only when they are actually necessary for training or evaluation. To enable the Flower framework to create clients when necessary, we need to implement a function called `client_fn` that creates a `FlowerClient` instance on demand. Flower calls `client_fn` whenever it needs an instance of one particular client to call `fit` or `evaluate` (those instances are usually discarded after use, so they should not keep any local state). Clients are identified by a client ID, or short `cid`. The `cid` can be used, for example, to load different local data partitions for different clients, as can be seen below:"
      ]
    },
    {
      "cell_type": "code",
      "execution_count": null,
      "metadata": {
        "id": "GaZRtZ0skssV"
      },
      "outputs": [
        {
          "ename": "",
          "evalue": "",
          "output_type": "error",
          "traceback": [
            "\u001b[1;31mÉchec du démarrage du Kernel. \n",
            "\u001b[1;31mKernel connection disconnected. \n",
            "\u001b[1;31mPour plus d’informations, consultez Jupyter <a href='command:jupyter.viewOutput'>log</a>."
          ]
        }
      ],
      "source": [
        "def client_fn(cid: str) -> FlowerClient:\n",
        "    \"\"\"Create a Flower client representing a single organization.\"\"\"\n",
        "\n",
        "    # Load model\n",
        "    net = Net().to(DEVICE)\n",
        "\n",
        "    # Load data (CIFAR-10)\n",
        "    # Note: each client gets a different trainloader/valloader, so each client\n",
        "    # will train and evaluate on their own unique data\n",
        "    trainloader = trainloaders[int(cid)]\n",
        "    valloader = valloaders[int(cid)]\n",
        "\n",
        "    # Create a  single Flower client representing a single organization\n",
        "    return FlowerClient(net, trainloader, valloader)"
      ]
    },
    {
      "cell_type": "markdown",
      "metadata": {
        "id": "8akNfXFDkssV"
      },
      "source": [
        "### Starting the training\n",
        "\n",
        "We now have the class `FlowerClient` which defines client-side training/evaluation and `client_fn` which allows Flower to create `FlowerClient` instances whenever it needs to call `fit` or `evaluate` on one particular client. The last step is to start the actual simulation using `flwr.simulation.start_simulation`. \n",
        "\n",
        "The function `start_simulation` accepts a number of arguments, amongst them the `client_fn` used to create `FlowerClient` instances, the number of clients to simulate (`num_clients`), the number of federated learning rounds (`num_rounds`), and the strategy. The strategy encapsulates the federated learning approach/algorithm, for example, *Federated Averaging* (FedAvg).\n",
        "\n",
        "Flower has a number of built-in strategies, but we can also use our own strategy implementations to customize nearly all aspects of the federated learning approach. For this example, we use the built-in `FedAvg` implementation and customize it using a few basic parameters. The last step is the actual call to `start_simulation` which - you guessed it - starts the simulation:"
      ]
    },
    {
      "cell_type": "code",
      "execution_count": null,
      "metadata": {
        "id": "4YH_H8hSkssW"
      },
      "outputs": [
        {
          "ename": "",
          "evalue": "",
          "output_type": "error",
          "traceback": [
            "\u001b[1;31mÉchec du démarrage du Kernel. \n",
            "\u001b[1;31mKernel connection disconnected. \n",
            "\u001b[1;31mPour plus d’informations, consultez Jupyter <a href='command:jupyter.viewOutput'>log</a>."
          ]
        }
      ],
      "source": [
        "# Create FedAvg strategy\n",
        "strategy = fl.server.strategy.FedAvg(\n",
        "    fraction_fit=1.0,  # Sample 100% of available clients for training\n",
        "    fraction_evaluate=0.5,  # Sample 50% of available clients for evaluation\n",
        "    min_fit_clients=10,  # Never sample less than 10 clients for training\n",
        "    min_evaluate_clients=5,  # Never sample less than 5 clients for evaluation\n",
        "    min_available_clients=10,  # Wait until all 10 clients are available\n",
        ")\n",
        "\n",
        "# Specify client resources if you need GPU (defaults to 1 CPU and 0 GPU)\n",
        "client_resources = None\n",
        "if DEVICE.type == \"cuda\":\n",
        "    client_resources = {\"num_gpus\": 1}\n",
        "\n",
        "# Start simulation\n",
        "fl.simulation.start_simulation(\n",
        "    client_fn=client_fn,\n",
        "    num_clients=NUM_CLIENTS,\n",
        "    config=fl.server.ServerConfig(num_rounds=5),\n",
        "    strategy=strategy,\n",
        "    client_resources=client_resources,\n",
        ")"
      ]
    },
    {
      "cell_type": "markdown",
      "metadata": {
        "id": "jOW0Ox9pkssW"
      },
      "source": [
        "### Behind the scenes\n",
        "\n",
        "So how does this work? How does Flower execute this simulation?\n",
        "\n",
        "When we call `start_simulation`, we tell Flower that there are 10 clients (`num_clients=10`). Flower then goes ahead an asks the `FedAvg` strategy to select clients. `FedAvg` knows that it should select 100% of the available clients (`fraction_fit=1.0`), so it goes ahead and selects 10 random clients (i.e., 100% of 10).\n",
        "\n",
        "Flower then asks the selected 10 clients to train the model. When the server receives the model parameter updates from the clients, it hands those updates over to the strategy (*FedAvg*) for aggregation. The strategy aggregates those updates and returns the new global model, which then gets used in the next round of federated learning."
      ]
    },
    {
      "cell_type": "markdown",
      "metadata": {
        "id": "mc8ogNqLkssW"
      },
      "source": [
        "### Where's the accuracy?\n",
        "\n",
        "You may have noticed that all metrics except for `losses_distributed` are empty. Where did the `{\"accuracy\": float(accuracy)}` go?\n",
        "\n",
        "Flower can automatically aggregate losses returned by individual clients, but it cannot do the same for metrics in the generic metrics dictionary (the one with the `accuracy` key). Metrics dictionaries can contain very different kinds of metrics and even key/value pairs that are not metrics at all, so the framework does not (and can not) know how to handle these automatically.\n",
        "\n",
        "As users, we need to tell the framework how to handle/aggregate these custom metrics, and we do so by passing metric aggregation functions to the strategy. The strategy will then call these functions whenever it receives fit or evaluate metrics from clients. The two possible functions are `fit_metrics_aggregation_fn` and `evaluate_metrics_aggregation_fn`.\n",
        "\n",
        "Let's create a simple weighted averaging function to aggregate the `accuracy` metric we return from `evaluate`:"
      ]
    },
    {
      "cell_type": "code",
      "execution_count": null,
      "metadata": {
        "id": "L0jkU1B1kssW"
      },
      "outputs": [
        {
          "ename": "",
          "evalue": "",
          "output_type": "error",
          "traceback": [
            "\u001b[1;31mÉchec du démarrage du Kernel. \n",
            "\u001b[1;31mKernel connection disconnected. \n",
            "\u001b[1;31mPour plus d’informations, consultez Jupyter <a href='command:jupyter.viewOutput'>log</a>."
          ]
        }
      ],
      "source": [
        "def weighted_average(metrics: List[Tuple[int, Metrics]]) -> Metrics:\n",
        "    # Multiply accuracy of each client by number of examples used\n",
        "    accuracies = [num_examples * m[\"accuracy\"] for num_examples, m in metrics]\n",
        "    examples = [num_examples for num_examples, _ in metrics]\n",
        "\n",
        "    # Aggregate and return custom metric (weighted average)\n",
        "    return {\"accuracy\": sum(accuracies) / sum(examples)}"
      ]
    },
    {
      "cell_type": "markdown",
      "metadata": {
        "id": "Vfw7Z_NUkssW"
      },
      "source": [
        "The only thing left to do is to tell the strategy to call this function whenever it receives evaluation metric dictionaries from the clients:"
      ]
    },
    {
      "cell_type": "code",
      "execution_count": null,
      "metadata": {
        "id": "aT7lLaDwkssW"
      },
      "outputs": [
        {
          "ename": "",
          "evalue": "",
          "output_type": "error",
          "traceback": [
            "\u001b[1;31mÉchec du démarrage du Kernel. \n",
            "\u001b[1;31mKernel connection disconnected. \n",
            "\u001b[1;31mPour plus d’informations, consultez Jupyter <a href='command:jupyter.viewOutput'>log</a>."
          ]
        }
      ],
      "source": [
        "# Create FedAvg strategy\n",
        "strategy = fl.server.strategy.FedAvg(\n",
        "    fraction_fit=1.0,\n",
        "    fraction_evaluate=0.5,\n",
        "    min_fit_clients=10,\n",
        "    min_evaluate_clients=5,\n",
        "    min_available_clients=10,\n",
        "    evaluate_metrics_aggregation_fn=weighted_average,  # <-- pass the metric aggregation function\n",
        ")\n",
        "\n",
        "# Start simulation\n",
        "fl.simulation.start_simulation(\n",
        "    client_fn=client_fn,\n",
        "    num_clients=NUM_CLIENTS,\n",
        "    config=fl.server.ServerConfig(num_rounds=5),\n",
        "    strategy=strategy,\n",
        "    client_resources=client_resources,\n",
        ")"
      ]
    },
    {
      "cell_type": "markdown",
      "metadata": {
        "id": "3UGzYDwtkssW"
      },
      "source": [
        "We now have a full system that performs federated training and federated evaluation. It uses the `weighted_average` function to aggregate custom evaluation metrics and calculates a single `accuracy` metric across all clients on the server side.\n",
        "\n",
        "The other two categories of metrics (`losses_centralized` and `metrics_centralized`) are still empty because they only apply when centralized evaluation is being used. Part two of the Flower tutorial will cover centralized evaluation."
      ]
    }
  ],
  "metadata": {
    "accelerator": "GPU",
    "colab": {
      "name": "fl_for_ids_101.ipynb",
      "provenance": []
    },
    "gpuClass": "standard",
    "kernelspec": {
      "display_name": "Python 3 (ipykernel)",
      "language": "python",
      "name": "python3"
    },
    "language_info": {
      "codemirror_mode": {
        "name": "ipython",
        "version": 3
      },
      "file_extension": ".py",
      "mimetype": "text/x-python",
      "name": "python",
      "nbconvert_exporter": "python",
      "pygments_lexer": "ipython3",
      "version": "3.10.10"
    }
  },
  "nbformat": 4,
  "nbformat_minor": 0
}
